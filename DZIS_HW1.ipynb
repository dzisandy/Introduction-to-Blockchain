{
 "cells": [
  {
   "cell_type": "markdown",
   "metadata": {},
   "source": [
    "# Introduction to blockchain HW 1"
   ]
  },
  {
   "cell_type": "markdown",
   "metadata": {},
   "source": [
    "## Problem 1 (10 points)\n",
    "\n",
    "Assume that at the end of the term an instructor uses an RSA Public Key Cryptosystem to sign the grades sent to students and to the Education Office. He signs each grade with his private key and transmits both the grade and the signature in a secure manner encrypted with a public key. After you decrypt the message you use his public key to decipher the signature and verify the grade. Assume the cryptosystem has the following features: n=55, e=33 and that the grading system features integer grades from 0 to 10. You have received the grade-signature pairs 8||13 and 6||41"
   ]
  },
  {
   "cell_type": "markdown",
   "metadata": {},
   "source": [
    "1.Verify that the grades you received are indeed originating from the instructor showing just intermediate results of your calculation (2 points)"
   ]
  },
  {
   "cell_type": "markdown",
   "metadata": {},
   "source": [
    "Open key {e,n} = {33,55}, received messages: {$m_1,s_1$} = {8,13}, {$m_2,s_2$} = {6,41}. To prove grades we need to calculate $m' = s^e mod(n)$ and check with m.\n",
    "Let's do it: $m'_1 = s_1^e mod(n) = 13^{33} mod(55) = 8, m'_2 = s_2^e mod(n) = 41^{33} mod(55) = 6$\n",
    "That means, that $m_1' = m_1, m_2' = m_2$, grades are correct and come from instructor."
   ]
  },
  {
   "cell_type": "markdown",
   "metadata": {},
   "source": [
    "2.Given the information above only can you fabricate the instructors’ signature for another grade? If yes, for which grade and how? (3 points)"
   ]
  },
  {
   "cell_type": "markdown",
   "metadata": {},
   "source": [
    "We can use multiplicative property of RSA, let's create new message as a product of 2 messages received $m_{new} = m*m mod(n)$, it will have $s_{new} = s*smod(n)$, because we have grades from 0 to 10, the only variant is to create $m_{new} = 8*8 mod(55) = 9 $, signature $s_{new} = 13*13 mod(55) = 4$. \n",
    "\n",
    "Let's prove, that attack is correct:\n",
    "new message {$m_{new},s_{new}$} = {9,4}, \n",
    "\n",
    "then signature proof: $m'_{new} = s_{new}^e mod(n) = 4^{33} mod(55) = 9$, so we corrupted the message and received grade 9."
   ]
  },
  {
   "cell_type": "markdown",
   "metadata": {},
   "source": [
    "3.What would you advise the instructor to do so as to prevent such fabrication? (2 points)"
   ]
  },
  {
   "cell_type": "markdown",
   "metadata": {},
   "source": [
    "To prevent such fabrication, I advise the instructor to increase $n = pq$, It will help in case, that it will be more complicated to find such product from previous messages, that will corrupt the grade and signature and increase the real grade."
   ]
  },
  {
   "cell_type": "markdown",
   "metadata": {},
   "source": [
    "4.Discuss what can go wrong in case the instructor sends a grade secretly by first enciphering it with a student’s public key, then signing it with his private key. Provide an example (3 points) "
   ]
  },
  {
   "cell_type": "markdown",
   "metadata": {},
   "source": [
    "Due to the fact, that structure of signing and encoding message are made in a similar way, we can provide our new fake keys to change our grade. Let's give an example:\n",
    "\n",
    "Encoding: $c = m^{e} mod(n)$\n",
    "\n",
    "Decoding: $c^{d}mod(n)$\n",
    "\n",
    "Signing: $s = m^{d}mod(n)$\n",
    "\n",
    "Proof of signature: $m' = s^{e}mod(n), m' = m$\n",
    "\n",
    "Let the grade be denoted as $g$, $\\{e_{s},n_{s}\\}$ - opened key for student. Imagine, we want grade $g_{new} = 2g$. Let's find new $n_s$ and new $e_s$. It's done from equation: $(g^3)^{e_{s}/3}mod(n_s) = (8g^3)^{e_{s}/3}mod(n_s) \\rightarrow ((2^{e_s} - 1)g^3)^{e_{s}/3}mod(n_s) = 0$. \n",
    "\n",
    "Now we can denote $g = 3$, for it $n_s = (2^{e_s} - 1)*g = 7*g = 21$, $e_s = 9$, so we can see, that: \n",
    "$(3^{3})mod(21) = (6^{3})mod(21)$, so we corrupted our grade.\n"
   ]
  },
  {
   "cell_type": "markdown",
   "metadata": {},
   "source": [
    "## Problem 2 (10 points)"
   ]
  },
  {
   "cell_type": "markdown",
   "metadata": {},
   "source": [
    "El-Gamal is videly used cryptographic standart. In this task you will implement El-Gamal encryption scheme using Python"
   ]
  },
  {
   "cell_type": "markdown",
   "metadata": {},
   "source": [
    "1.Implement function for generating keys. The function must generate big random prime number (problem of generating big prime numbers was discussed during seminar after lecture 3). (2 points)"
   ]
  },
  {
   "cell_type": "code",
   "execution_count": 1,
   "metadata": {},
   "outputs": [],
   "source": [
    "from random import randint\n",
    "import math\n",
    "\n",
    "def is_prime(num, test_count):\n",
    "    if num == 1:\n",
    "        return False\n",
    "    if test_count >= num:\n",
    "        test_count = num - 1\n",
    "    for x in range(test_count):\n",
    "        val = randint(1, num - 1)\n",
    "        if pow(val, num-1, num) != 1:\n",
    "            return False\n",
    "    return True\n",
    "\n",
    "def generate_big_prime(n, test_count=1000):\n",
    "    found_prime = False\n",
    "    while not found_prime:\n",
    "        p = randint(2**(n-1), 2**n)\n",
    "        if is_prime(p, test_count):\n",
    "            return p\n",
    "def roots(n):\n",
    "    coprime_set = {num for num in range(1, n) if math.gcd(num, n) == 1}\n",
    "    out = [g for g in range(1, n) if coprime_set == {pow(g, powers, n)\n",
    "            for powers in range(1, n)}]\n",
    "    return out[randint(0,len(out))]\n",
    "\n",
    "def gen_key(n):\n",
    "    p = generate_big_prime(n)\n",
    "    x = randint(1,p-1)\n",
    "    g = roots(p)\n",
    "    y = (g**x)%p\n",
    "    return p,g,x,y\n",
    "\n"
   ]
  },
  {
   "cell_type": "markdown",
   "metadata": {},
   "source": [
    "2.Implement functions that realize the encryption and decryption functions. (2 points)"
   ]
  },
  {
   "cell_type": "code",
   "execution_count": 2,
   "metadata": {},
   "outputs": [],
   "source": [
    "def encrypt(m,n):\n",
    "    p,g,x,y = gen_key(n)\n",
    "    if m > p:\n",
    "        return 0\n",
    "    else:\n",
    "        k = randint(1,p-1)\n",
    "        a = (g**k)%p\n",
    "        b = ((y**k)*m)%p\n",
    "    return a,b,p,x\n",
    "\n",
    "def decrypt(a,b,p,x):\n",
    "    m = (b*a**(p-1-x))%p\n",
    "    return m"
   ]
  },
  {
   "cell_type": "markdown",
   "metadata": {},
   "source": [
    "3.Test your functions on random values and show that your realization works correctly (1 point)"
   ]
  },
  {
   "cell_type": "code",
   "execution_count": 3,
   "metadata": {},
   "outputs": [],
   "source": [
    "def test(n):\n",
    "    number =  randint(1,2**(n-1))\n",
    "    print('Message:', number)\n",
    "    a,b,p,x = encrypt(number,n)\n",
    "    print('Encrypcted: (a,b) = ',a,b)\n",
    "    d = decrypt(a,b,p,x)\n",
    "    print('Decrypted, message:', d)\n"
   ]
  },
  {
   "cell_type": "code",
   "execution_count": 4,
   "metadata": {},
   "outputs": [
    {
     "name": "stdout",
     "output_type": "stream",
     "text": [
      "Message: 209\n",
      "Encrypcted: (a,b) =  197 535\n",
      "Decrypted, message: 209\n"
     ]
    }
   ],
   "source": [
    "test(10)"
   ]
  },
  {
   "cell_type": "markdown",
   "metadata": {},
   "source": [
    "4.Implement functions that realize creation and verification of digital signature (2 points)"
   ]
  },
  {
   "cell_type": "code",
   "execution_count": 5,
   "metadata": {},
   "outputs": [],
   "source": [
    "def egcd(n1, n2):\n",
    "    if n1 == 0:\n",
    "        return (n2, 0, 1)\n",
    "    else:\n",
    "        g, y, x = egcd(n2 % n1, n1)\n",
    "        return (g, x - (n2 // n1) * y, y)\n",
    "\n",
    "def inv(a, m):\n",
    "    g, x, y = egcd(a, m)\n",
    "    if g != 1:\n",
    "        raise Exception('Inv does not exist')\n",
    "    else:\n",
    "        return x % m\n",
    "    \n",
    "def hashed(m):\n",
    "    return m%199"
   ]
  },
  {
   "cell_type": "code",
   "execution_count": 6,
   "metadata": {},
   "outputs": [],
   "source": [
    "def sig_create(m,n):\n",
    "    p,g,x,y = gen_key(n)\n",
    "    m1 = hashed(m)\n",
    "    k = randint(1,p-1)\n",
    "    while math.gcd(k,p-1) != 1:\n",
    "        k += 1 \n",
    "    r = (g**k)%p\n",
    "    s = ((m1 - x*r)*inv(k,p-1))%(p-1)\n",
    "    return m,r,s,p,g,y\n",
    "    \n",
    "def sig_verify(m,r,s,p,g,y):\n",
    "    if  0 < r < p  or 0 < s < p-1:\n",
    "        m1 = hashed(m)\n",
    "        left = (y**r)*(r**s)%p\n",
    "        right = (g**m1)%p\n",
    "        if left == right:\n",
    "            print('Signature right:', left,'=',right)\n",
    "        else:\n",
    "             raise Exception('Wrong signature!')\n",
    "    else: \n",
    "        raise Exception('Wrong signature!')"
   ]
  },
  {
   "cell_type": "markdown",
   "metadata": {},
   "source": [
    "5.Test your functions on random values and show that your algorithm works correctly (1 point)"
   ]
  },
  {
   "cell_type": "code",
   "execution_count": 7,
   "metadata": {},
   "outputs": [],
   "source": [
    "def test1(n):\n",
    "    number =  randint(1,2**(n-1))\n",
    "    print('Message:', number)\n",
    "    m,r,s,p,g,y = sig_create(number,n)\n",
    "    print('Signatured message: (m,r,s)= ',m,r,s)\n",
    "    sig_verify(m,r,s,p,g,y)"
   ]
  },
  {
   "cell_type": "code",
   "execution_count": 8,
   "metadata": {},
   "outputs": [
    {
     "name": "stdout",
     "output_type": "stream",
     "text": [
      "Message: 25\n",
      "Signatured message: (m,r,s)=  25 459 720\n",
      "Signature right: 223 = 223\n"
     ]
    }
   ],
   "source": [
    "test1(10)"
   ]
  },
  {
   "cell_type": "markdown",
   "metadata": {},
   "source": [
    "## Problem 3 (15 points)"
   ]
  },
  {
   "cell_type": "markdown",
   "metadata": {},
   "source": [
    "1.Implement SHA256 (https://en.wikipedia.org/wiki/SHA-2) hashing algorithm using the pseudo-code below. Note the great increase in mixing between bits of the w[16..63] words compared to SHA-1 (10 points)"
   ]
  },
  {
   "cell_type": "raw",
   "metadata": {},
   "source": [
    "Note 1: All variables are 32 bit unsigned integers and addition is done modulo 2^32\n",
    "Note 2: For each round, there is one round constant k[i] and one entry in the message schedule array w[i], 0 ≤ i ≤ 63\n",
    "Note 3: The compression function uses 8 working variables, a through h\n",
    "Note 4: Big-endian convention is used when expressing the constants in this pseudocode,\n",
    "    and when parsing message block data from bytes to words, for example,\n",
    "    the first word of the input message \"abc\" after padding is 0x61626380\n",
    "\n",
    "Initialize hash values:\n",
    "(first 32 bits of the fractional parts of the square roots of the first 8 primes 2..19):\n",
    "h0 := 0x6a09e667\n",
    "h1 := 0xbb67ae85\n",
    "h2 := 0x3c6ef372\n",
    "h3 := 0xa54ff53a\n",
    "h4 := 0x510e527f\n",
    "h5 := 0x9b05688c\n",
    "h6 := 0x1f83d9ab\n",
    "h7 := 0x5be0cd19\n",
    "\n",
    "Initialize array of round constants:\n",
    "(first 32 bits of the fractional parts of the cube roots of the first 64 primes 2..311):\n",
    "k[0..63] :=\n",
    "   0x428a2f98, 0x71374491, 0xb5c0fbcf, 0xe9b5dba5, 0x3956c25b, 0x59f111f1, 0x923f82a4, 0xab1c5ed5,\n",
    "   0xd807aa98, 0x12835b01, 0x243185be, 0x550c7dc3, 0x72be5d74, 0x80deb1fe, 0x9bdc06a7, 0xc19bf174,\n",
    "   0xe49b69c1, 0xefbe4786, 0x0fc19dc6, 0x240ca1cc, 0x2de92c6f, 0x4a7484aa, 0x5cb0a9dc, 0x76f988da,\n",
    "   0x983e5152, 0xa831c66d, 0xb00327c8, 0xbf597fc7, 0xc6e00bf3, 0xd5a79147, 0x06ca6351, 0x14292967,\n",
    "   0x27b70a85, 0x2e1b2138, 0x4d2c6dfc, 0x53380d13, 0x650a7354, 0x766a0abb, 0x81c2c92e, 0x92722c85,\n",
    "   0xa2bfe8a1, 0xa81a664b, 0xc24b8b70, 0xc76c51a3, 0xd192e819, 0xd6990624, 0xf40e3585, 0x106aa070,\n",
    "   0x19a4c116, 0x1e376c08, 0x2748774c, 0x34b0bcb5, 0x391c0cb3, 0x4ed8aa4a, 0x5b9cca4f, 0x682e6ff3,\n",
    "   0x748f82ee, 0x78a5636f, 0x84c87814, 0x8cc70208, 0x90befffa, 0xa4506ceb, 0xbef9a3f7, 0xc67178f2\n",
    "\n",
    "Pre-processing (Padding):\n",
    "begin with the original message of length L bits\n",
    "append a single '1' bit\n",
    "append K '0' bits, where K is the minimum number >= 0 such that L + 1 + K + 64 is a multiple of 512\n",
    "append L as a 64-bit big-endian integer, making the total post-processed length a multiple of 512 bits\n",
    "\n",
    "Process the message in successive 512-bit chunks:\n",
    "break message into 512-bit chunks\n",
    "for each chunk\n",
    "    create a 64-entry message schedule array w[0..63] of 32-bit words\n",
    "    (The initial values in w[0..63] don't matter, so many implementations zero them here)\n",
    "    copy chunk into first 16 words w[0..15] of the message schedule array\n",
    "\n",
    "    Extend the first 16 words into the remaining 48 words w[16..63] of the message schedule array:\n",
    "    for i from 16 to 63\n",
    "        s0 := (w[i-15] rightrotate 7) xor (w[i-15] rightrotate 18) xor (w[i-15] rightshift 3)\n",
    "        s1 := (w[i-2] rightrotate 17) xor (w[i-2] rightrotate 19) xor (w[i-2] rightshift 10)\n",
    "        w[i] := w[i-16] + s0 + w[i-7] + s1\n",
    "\n",
    "    Initialize working variables to current hash value:\n",
    "    a := h0\n",
    "    b := h1\n",
    "    c := h2\n",
    "    d := h3\n",
    "    e := h4\n",
    "    f := h5\n",
    "    g := h6\n",
    "    h := h7\n",
    "\n",
    "    Compression function main loop:\n",
    "    for i from 0 to 63\n",
    "        S1 := (e rightrotate 6) xor (e rightrotate 11) xor (e rightrotate 25)\n",
    "        ch := (e and f) xor ((not e) and g)\n",
    "        temp1 := h + S1 + ch + k[i] + w[i]\n",
    "        S0 := (a rightrotate 2) xor (a rightrotate 13) xor (a rightrotate 22)\n",
    "        maj := (a and b) xor (a and c) xor (b and c)\n",
    "        temp2 := S0 + maj\n",
    " \n",
    "        h := g\n",
    "        g := f\n",
    "        f := e\n",
    "        e := d + temp1\n",
    "        d := c\n",
    "        c := b\n",
    "        b := a\n",
    "        a := temp1 + temp2\n",
    "\n",
    "    Add the compressed chunk to the current hash value:\n",
    "    h0 := h0 + a\n",
    "    h1 := h1 + b\n",
    "    h2 := h2 + c\n",
    "    h3 := h3 + d\n",
    "    h4 := h4 + e\n",
    "    h5 := h5 + f\n",
    "    h6 := h6 + g\n",
    "    h7 := h7 + h\n",
    "\n",
    "Produce the final hash value (big-endian):\n",
    "digest := hash := h0 append h1 append h2 append h3 append h4 append h5 append h6 append h7"
   ]
  },
  {
   "cell_type": "code",
   "execution_count": 9,
   "metadata": {},
   "outputs": [],
   "source": [
    "hash_values=[\n",
    "    '0x6a09e667','0xbb67ae85','0x3c6ef372','0xa54ff53a',\n",
    "    '0x510e527f','0x9b05688c','0x1f83d9ab','0x5be0cd19'\n",
    "]\n",
    "\n",
    "const=[\n",
    "   '0x428a2f98', '0x71374491', '0xb5c0fbcf', '0xe9b5dba5', '0x3956c25b', '0x59f111f1', '0x923f82a4', '0xab1c5ed5',\n",
    "   '0xd807aa98', '0x12835b01', '0x243185be', '0x550c7dc3', '0x72be5d74', '0x80deb1fe', '0x9bdc06a7', '0xc19bf174',\n",
    "   '0xe49b69c1', '0xefbe4786', '0x0fc19dc6', '0x240ca1cc', '0x2de92c6f', '0x4a7484aa', '0x5cb0a9dc', '0x76f988da',\n",
    "   '0x983e5152', '0xa831c66d', '0xb00327c8', '0xbf597fc7', '0xc6e00bf3', '0xd5a79147', '0x06ca6351', '0x14292967',\n",
    "   '0x27b70a85', '0x2e1b2138', '0x4d2c6dfc', '0x53380d13', '0x650a7354', '0x766a0abb', '0x81c2c92e', '0x92722c85',\n",
    "   '0xa2bfe8a1', '0xa81a664b', '0xc24b8b70', '0xc76c51a3', '0xd192e819', '0xd6990624', '0xf40e3585', '0x106aa070',\n",
    "   '0x19a4c116', '0x1e376c08', '0x2748774c', '0x34b0bcb5', '0x391c0cb3', '0x4ed8aa4a', '0x5b9cca4f', '0x682e6ff3',\n",
    "   '0x748f82ee', '0x78a5636f', '0x84c87814', '0x8cc70208', '0x90befffa', '0xa4506ceb', '0xbef9a3f7', '0xc67178f2'\n",
    "]"
   ]
  },
  {
   "cell_type": "code",
   "execution_count": 10,
   "metadata": {},
   "outputs": [],
   "source": [
    "def message_bit_return(string):\n",
    "    bits=[]\n",
    "    bits_str=''\n",
    "    for i in range(len(string)):\n",
    "        bits.append(str(format(ord(string[i]),'08b')))\n",
    "    for i in range(len(bits)):\n",
    "        bits_str+=bits[i]\n",
    "    return(bits_str)\n",
    "\n",
    "\n",
    "def preprocessing(message):\n",
    "    m = message +'1'\n",
    "    k = 0\n",
    "    while (len(message)+1+k)%512 != 448:\n",
    "        k += 1\n",
    "    m = m + '0'*k\n",
    "    m = m + str(format(len(message),'064b'))\n",
    "    return m\n",
    "\n",
    "def message_split_512(m):\n",
    "    k = int(len(m)/512)\n",
    "    a = []\n",
    "    for i in range(k):\n",
    "        a.append(m[512*i:512*(i+1)]) \n",
    "    return a\n",
    "\n",
    "def message_split_32(m):\n",
    "    b = [[] for k in range(len(m))]\n",
    "    for i in range(len(m)):\n",
    "        for j in range(int(len(m[i])/32)):\n",
    "            b[i].append(m[i][32*j:32*(j+1)])\n",
    "    return b\n",
    "        \n",
    "def shr(m,n):\n",
    "    a = '0'*n\n",
    "    for i in range(len(m)-n):\n",
    "        a += m[i]\n",
    "    return a\n",
    "\n",
    "def rotr(m,n):\n",
    "    a = ''\n",
    "    for i in range(n):\n",
    "        a += m[len(m)-n+i]\n",
    "    for j in range(0,len(m)-n):\n",
    "        a += m[j]\n",
    "    return a\n",
    "        \n",
    "def XOR(str1,str2):\n",
    "    a = ''\n",
    "    for i in range(len(str1)):\n",
    "        if str1[i] == '0' and str2[i] == '0':\n",
    "            a += '0'\n",
    "        if str1[i] == '1' and str2[i] == '0':\n",
    "            a += '1'\n",
    "        if str1[i] == '0' and str2[i] == '1':\n",
    "            a += '1'\n",
    "        if str1[i] == '1' and str2[i] == '1':\n",
    "            a += '0'\n",
    "    return a\n",
    "\n",
    "def AND(str1,str2):\n",
    "    a = ''\n",
    "    for i in range(len(str1)):\n",
    "        if str1[i] == '0' and str2[i] == '0':\n",
    "            a += '0'\n",
    "        if str1[i] == '1' and str2[i] == '0':\n",
    "            a += '0'\n",
    "        if str1[i] == '0' and str2[i] == '1':\n",
    "            a += '0'\n",
    "        if str1[i] == '1' and str2[i] == '1':\n",
    "            a += '1'\n",
    "    return a\n",
    "\n",
    "def NOT(str1):\n",
    "    a = ''\n",
    "    for i in range(len(str1)):\n",
    "        if str1[i] == '0':\n",
    "            a +='1'\n",
    "        if str1[i] == '1':\n",
    "            a +='0'\n",
    "    return a"
   ]
  },
  {
   "cell_type": "code",
   "execution_count": 11,
   "metadata": {},
   "outputs": [],
   "source": [
    "def extend(m):\n",
    "    for i in range(len(m)):\n",
    "        for j in range(16,64):\n",
    "            str_1 = XOR(rotr(m[i][j-15],7),rotr(m[i][j-15],18))\n",
    "            s_0 = XOR(str_1,shr(m[i][j-15],3))\n",
    "            str_2 = XOR(rotr(m[i][j-2],17),rotr(m[i][j-2],19))\n",
    "            s_1 = XOR(str_2,shr(m[i][j-2],10))\n",
    "            s_0 = int(s_0,2)\n",
    "            s_1 = int(s_1,2)\n",
    "            k_1 = int(m[i][j-16],2)\n",
    "            k_2 =  int(m[i][j-7],2)\n",
    "            out = (s_0 + s_1 + k_1 + k_2)%(2**32)\n",
    "            out = str(format(out,'032b'))\n",
    "            m[i].append(out)\n",
    "    return m\n",
    "\n"
   ]
  },
  {
   "cell_type": "code",
   "execution_count": 12,
   "metadata": {},
   "outputs": [],
   "source": [
    "def main(hash_values,const,m):\n",
    "    w = extend(message_split_32(message_split_512(preprocessing(message_bit_return(m)))))\n",
    "    h_0 = int(hash_values[0],16)\n",
    "    h_1 = int(hash_values[1],16)\n",
    "    h_2 = int(hash_values[2],16)\n",
    "    h_3 = int(hash_values[3],16)\n",
    "    h_4 = int(hash_values[4],16)\n",
    "    h_5 = int(hash_values[5],16)\n",
    "    h_6 = int(hash_values[6],16)\n",
    "    h_7 = int(hash_values[7],16) \n",
    "    for j in range(len(w)):\n",
    "        a = format(h_0,'032b')\n",
    "        b = format(h_1,'032b')\n",
    "        c = format(h_2,'032b')\n",
    "        d = format(h_3,'032b')\n",
    "        e = format(h_4,'032b')\n",
    "        f = format(h_5,'032b')\n",
    "        g = format(h_6,'032b')\n",
    "        h = format(h_7,'032b')\n",
    "        for i in range(64):\n",
    "            s_0 = XOR(XOR(rotr(a,2),rotr(a,13)),rotr(a,22))\n",
    "            M_a = XOR(XOR(AND(a,b),AND(b,c)),AND(a,c))\n",
    "            s_0 = int(s_0,2)\n",
    "            M_a = int(M_a,2)\n",
    "            t_2 = (s_0 + M_a)%(2**32)\n",
    "            s_1 = XOR(XOR(rotr(e,6),rotr(e,11)),rotr(e,25))\n",
    "            Ch = XOR(AND(e,f),AND(NOT(e),g))\n",
    "            s_1 = int(s_1,2)\n",
    "            Ch = int(Ch,2)\n",
    "            constt = int(const[i],16)\n",
    "            z = int(w[j][i],2)\n",
    "            h = int(h,2)\n",
    "            t_1 = (h+s_1+Ch+constt+z)%(2**32)\n",
    "            h = format(int(g,2),'032b')\n",
    "            g = format(int(f,2), '032b')\n",
    "            f = format(int(e,2), '032b')\n",
    "            e = format((int(d,2) + t_1)%(2**32), '032b')\n",
    "            d = format(int(c,2), '032b')\n",
    "            c = format(int(b,2), '032b')\n",
    "            b = format(int(a,2), '032b')\n",
    "            a = format((t_1 + t_2)%(2**32), '032b')\n",
    "        h_0 = (h_0 + int(a,2))%(2**32)\n",
    "        h_1 = (h_1 + int(b,2))%(2**32)\n",
    "        h_2 = (h_2 + int(c,2))%(2**32)\n",
    "        h_3 = (h_3 + int(d,2))%(2**32)\n",
    "        h_4 = (h_4 + int(e,2))%(2**32)\n",
    "        h_5 = (h_5 + int(f,2))%(2**32)\n",
    "        h_6 = (h_6 + int(g,2))%(2**32)\n",
    "        h_7 = (h_7 + int(h,2))%(2**32)\n",
    "    h_0 = str(format(h_0, '08x'))\n",
    "    h_1 = str(format(h_1, '08x'))\n",
    "    h_2 = str(format(h_2, '08x'))\n",
    "    h_3 = str(format(h_3, '08x'))\n",
    "    h_4 = str(format(h_4, '08x'))\n",
    "    h_5 = str(format(h_5, '08x'))\n",
    "    h_6 = str(format(h_6, '08x'))\n",
    "    h_7 = str(format(h_7, '08x')) \n",
    "    return str(h_0+h_1+h_2+h_3+h_4+h_5+h_6+h_7)\n",
    "\n",
    "\n",
    "            \n",
    "        "
   ]
  },
  {
   "cell_type": "markdown",
   "metadata": {},
   "source": [
    "2.Calculate hashes of the texts below (1 point)"
   ]
  },
  {
   "cell_type": "code",
   "execution_count": 13,
   "metadata": {},
   "outputs": [],
   "source": [
    "string_small = 'This is a very small string with a few characters.'\n",
    "string_larger = 'This is a larger string that contains more characters.'\n",
    "string_big = 'This is a larger string that contains more characters. This demonstrates that no matter how big the input stream is, the generated hash is the same size (but of course, not the same value). If two files have a different hash, they surely contain different data.'\n",
    "string_empty = ''"
   ]
  },
  {
   "cell_type": "code",
   "execution_count": 14,
   "metadata": {},
   "outputs": [
    {
     "data": {
      "text/plain": [
       "'551bfc4b109bec23bbf29ba0e8c4520f194ae77d0c1839b052552deb23774f07'"
      ]
     },
     "execution_count": 14,
     "metadata": {},
     "output_type": "execute_result"
    }
   ],
   "source": [
    "main(hash_values,const, string_small)"
   ]
  },
  {
   "cell_type": "code",
   "execution_count": 15,
   "metadata": {},
   "outputs": [
    {
     "data": {
      "text/plain": [
       "'e3c7ba4a5ff68765249cc065a5198b1b8be94b67910a946f1fbaa995daecb51a'"
      ]
     },
     "execution_count": 15,
     "metadata": {},
     "output_type": "execute_result"
    }
   ],
   "source": [
    "main(hash_values,const, string_larger)"
   ]
  },
  {
   "cell_type": "code",
   "execution_count": 16,
   "metadata": {},
   "outputs": [
    {
     "data": {
      "text/plain": [
       "'14d7885558ff807137a02f6b610df0e680e34ebf5a2565d44e138443fb82e891'"
      ]
     },
     "execution_count": 16,
     "metadata": {},
     "output_type": "execute_result"
    }
   ],
   "source": [
    "main(hash_values,const, string_big)"
   ]
  },
  {
   "cell_type": "code",
   "execution_count": 17,
   "metadata": {},
   "outputs": [
    {
     "data": {
      "text/plain": [
       "'e3b0c44298fc1c149afbf4c8996fb92427ae41e4649b934ca495991b7852b855'"
      ]
     },
     "execution_count": 17,
     "metadata": {},
     "output_type": "execute_result"
    }
   ],
   "source": [
    "main(hash_values,const, string_empty)"
   ]
  },
  {
   "cell_type": "markdown",
   "metadata": {},
   "source": [
    "3.What is a bit length of each hash? (1 point)"
   ]
  },
  {
   "cell_type": "markdown",
   "metadata": {
    "collapsed": true
   },
   "source": [
    "256 bits"
   ]
  },
  {
   "cell_type": "markdown",
   "metadata": {},
   "source": [
    "4.What is the bitwise distance between them? What is bitwise distance between their hashes? (1 point)"
   ]
  },
  {
   "cell_type": "code",
   "execution_count": 18,
   "metadata": {},
   "outputs": [],
   "source": [
    "a = message_bit_return(string_small)\n",
    "b = message_bit_return(string_larger)\n",
    "c = message_bit_return(string_big)\n",
    "d = message_bit_return(string_empty)"
   ]
  },
  {
   "cell_type": "code",
   "execution_count": 19,
   "metadata": {},
   "outputs": [],
   "source": [
    "e = str(format(int(main(hash_values,const, string_small),16),'256b'))\n",
    "f = str(format(int(main(hash_values,const, string_larger),16),'256b'))\n",
    "g = str(format(int(main(hash_values,const, string_big),16),'256b'))\n",
    "h = str(format(int(main(hash_values,const, string_empty),16),'256b'))\n",
    "        "
   ]
  },
  {
   "cell_type": "code",
   "execution_count": 20,
   "metadata": {},
   "outputs": [],
   "source": [
    "def dist(a,b):\n",
    "    dist = 0\n",
    "    if len(a) != len(b):\n",
    "        if len(a)  > len(b):\n",
    "            b += '0'*(len(a)-len(b))\n",
    "        else:\n",
    "            a += '0'*(len(b)-len(a))\n",
    "    for i in range(len(a)):\n",
    "        if a[i] != b[i]:\n",
    "            dist +=1\n",
    "        else:\n",
    "            continue\n",
    "    return dist/len(a)"
   ]
  },
  {
   "cell_type": "code",
   "execution_count": 21,
   "metadata": {
    "scrolled": false
   },
   "outputs": [
    {
     "name": "stdout",
     "output_type": "stream",
     "text": [
      "Distance between a and b = 0.28935185185185186\n",
      "Distance between a and c = 0.4109195402298851\n",
      "Distance between a and d = 0.445\n",
      "Distance between b and c = 0.3510536398467433\n",
      "Distance between b and d = 0.45601851851851855\n",
      "Distance between c and d = 0.4454022988505747\n"
     ]
    }
   ],
   "source": [
    "print('Distance between a and b =', dist(a,b))\n",
    "print('Distance between a and c =', dist(a,c))\n",
    "print('Distance between a and d =', dist(a,d))\n",
    "print('Distance between b and c =', dist(b,c))\n",
    "print('Distance between b and d =', dist(b,d))\n",
    "print('Distance between c and d =', dist(c,d))"
   ]
  },
  {
   "cell_type": "code",
   "execution_count": 22,
   "metadata": {},
   "outputs": [
    {
     "name": "stdout",
     "output_type": "stream",
     "text": [
      "Distance between e and f = 0.5546875\n",
      "Distance between e and g = 0.46875\n",
      "Distance between e and h = 0.5078125\n",
      "Distance between f and g = 0.48828125\n",
      "Distance between f and h = 0.5\n",
      "Distance between g and h = 0.50390625\n"
     ]
    }
   ],
   "source": [
    "print('Distance between e and f =', dist(e,f))\n",
    "print('Distance between e and g =', dist(e,g))\n",
    "print('Distance between e and h =', dist(e,h))\n",
    "print('Distance between f and g =', dist(f,g))\n",
    "print('Distance between f and h =', dist(f,h))\n",
    "print('Distance between g and h =', dist(g,h))"
   ]
  },
  {
   "cell_type": "markdown",
   "metadata": {},
   "source": [
    "5.Typically use apply hash function to our passwords and texts that we want to digitally sign. Implement digital signature of hashed string using El-Gamal digital signature. Compare the digital signature of pain text and hashed text. (2 points)"
   ]
  },
  {
   "cell_type": "code",
   "execution_count": 23,
   "metadata": {},
   "outputs": [],
   "source": [
    "x = 123\n",
    "_,r,s,_,_,_ = sig_create(x,8)"
   ]
  },
  {
   "cell_type": "code",
   "execution_count": 24,
   "metadata": {},
   "outputs": [
    {
     "name": "stdout",
     "output_type": "stream",
     "text": [
      "Signature = ( 24 , 15 )\n"
     ]
    }
   ],
   "source": [
    "print('Signature = ''(',r,',',s,')')"
   ]
  },
  {
   "cell_type": "code",
   "execution_count": 25,
   "metadata": {},
   "outputs": [],
   "source": [
    "y = int(main(hash_values,const, '123'),16)"
   ]
  },
  {
   "cell_type": "code",
   "execution_count": 26,
   "metadata": {},
   "outputs": [],
   "source": [
    "_,r,s,_,_,_ = sig_create(y,8)"
   ]
  },
  {
   "cell_type": "code",
   "execution_count": 27,
   "metadata": {},
   "outputs": [
    {
     "name": "stdout",
     "output_type": "stream",
     "text": [
      "Signature = ( 86 , 101 )\n"
     ]
    }
   ],
   "source": [
    "print('Signature = ''(',r,',',s,')')"
   ]
  },
  {
   "cell_type": "markdown",
   "metadata": {},
   "source": [
    "## Problem 4 (15 points)"
   ]
  },
  {
   "cell_type": "markdown",
   "metadata": {},
   "source": [
    "Merkle hash trees play an important role in forming transaction blocks in blockchain. In this assignment we ask you to plot your own Merkle hash tree and check its' properties. Below we provide you with some code fragment what you can use in your assignment"
   ]
  },
  {
   "cell_type": "code",
   "execution_count": 28,
   "metadata": {},
   "outputs": [],
   "source": [
    "import matplotlib\n",
    "import networkx as nx\n",
    "%matplotlib inline\n",
    "from networkx import balanced_tree, draw_networkx, draw"
   ]
  },
  {
   "cell_type": "markdown",
   "metadata": {},
   "source": [
    "Let us plot graph basis for Merkle hash tree"
   ]
  },
  {
   "cell_type": "code",
   "execution_count": 29,
   "metadata": {},
   "outputs": [
    {
     "name": "stderr",
     "output_type": "stream",
     "text": [
      "/Users/dzisandy/anaconda3/lib/python3.6/site-packages/networkx/drawing/nx_pylab.py:611: MatplotlibDeprecationWarning: isinstance(..., numbers.Number)\n",
      "  if cb.is_numlike(alpha):\n"
     ]
    },
    {
     "data": {
      "text/plain": [
       "{0: Text(0, 4, '0'),\n",
       " 1: Text(-2, 3, '1'),\n",
       " 2: Text(2, 3, '2'),\n",
       " 3: Text(-3, 2, '3'),\n",
       " 4: Text(-1, 2, '4'),\n",
       " 5: Text(1, 2, '5'),\n",
       " 6: Text(3, 2, '6'),\n",
       " 7: Text(-3, 1, 'tx1'),\n",
       " 8: Text(-1, 1, 'tx2'),\n",
       " 9: Text(1, 1, 'tx3'),\n",
       " 10: Text(3, 1, 'tx4')}"
      ]
     },
     "execution_count": 29,
     "metadata": {},
     "output_type": "execute_result"
    },
    {
     "data": {
      "image/png": "[encoded data removed]",
      "text/plain": [
       "<Figure size 432x288 with 1 Axes>"
      ]
     },
     "metadata": {},
     "output_type": "display_data"
    }
   ],
   "source": [
    "G = nx.Graph()\n",
    "positions = {}\n",
    "coordinates = [\n",
    "    [0, 4],\n",
    "    [-2, 3],\n",
    "    [2, 3],\n",
    "    [-3, 2],\n",
    "    [-1, 2],\n",
    "    [1, 2],\n",
    "    [3, 2],\n",
    "    [-3, 1],\n",
    "    [-1, 1],\n",
    "    [1, 1],\n",
    "    [3, 1]\n",
    "]\n",
    "parents = [0, 0, 0, 1, 1, 2, 2, 3, 4, 5, 6]\n",
    "for index in range(11):\n",
    "    G.add_node(index)\n",
    "    G.add_edge(index, parents[index])\n",
    "    positions[index] = coordinates[index]\n",
    "nx.draw(G, positions, node_size = 1000)\n",
    "labels = {\n",
    "    0: '0',\n",
    "    1: '1',\n",
    "    2: '2',\n",
    "    3: '3',\n",
    "    4: '4',\n",
    "    5: '5',\n",
    "    6: '6',\n",
    "    7: 'tx1',\n",
    "    8: 'tx2',\n",
    "    9: 'tx3',\n",
    "    10: 'tx4',\n",
    "}\n",
    "nx.draw_networkx_labels(G, positions, labels = labels)"
   ]
  },
  {
   "cell_type": "markdown",
   "metadata": {},
   "source": [
    "In Bitcoin double sha256 hash scheme is used. Here is an example."
   ]
  },
  {
   "cell_type": "code",
   "execution_count": 30,
   "metadata": {},
   "outputs": [
    {
     "name": "stdout",
     "output_type": "stream",
     "text": [
      "First hash represented as a hexadecimal number: 2cf24dba5fb0a30e26e83b2ac5b9e29e1b161e5c1fa7425e73043362938b9824\n",
      "Second hash represented as a hexadecimal number: 9595c9df90075148eb06860365df33584b75bff782a510c6cd4883a419833d50\n"
     ]
    }
   ],
   "source": [
    "import hashlib\n",
    "\n",
    "\n",
    "first_hash = hashlib.sha256(b\"hello\") # \"b\" stands for binary representation\n",
    "second_hash = hashlib.sha256()\n",
    "print('First hash represented as a hexadecimal number:', first_hash.hexdigest())\n",
    "second_hash.update(first_hash.digest())\n",
    "print('Second hash represented as a hexadecimal number:', second_hash.hexdigest())"
   ]
  },
  {
   "cell_type": "markdown",
   "metadata": {},
   "source": [
    "Now we can easily change vertices' labels to hashes of corresponding messages and plot new graph"
   ]
  },
  {
   "cell_type": "code",
   "execution_count": 31,
   "metadata": {},
   "outputs": [
    {
     "name": "stdout",
     "output_type": "stream",
     "text": [
      "856a4921cd32690244af7568e7bd1391a94119e17c7f33234f4bf11271b223e5\n"
     ]
    },
    {
     "data": {
      "image/png": "[encoded data removed]",
      "text/plain": [
       "<Figure size 432x288 with 1 Axes>"
      ]
     },
     "metadata": {},
     "output_type": "display_data"
    }
   ],
   "source": [
    "labels[3] = hashlib.sha256(hashlib.sha256(b\"tx1\").digest()).hexdigest()\n",
    "\n",
    "# and plot the graph again\n",
    "\n",
    "nx.draw(G, positions, node_size = 1000)\n",
    "nx.draw_networkx_labels(G, positions, labels = labels, font_size = 8)\n",
    "print(labels[3])"
   ]
  },
  {
   "cell_type": "markdown",
   "metadata": {},
   "source": [
    "1.Construct Merkle hash tree using previously constructed graph by finding corresponding SHA256 hashes on vertices (2 points). Plot obtained Merkle hash tree (1 point)"
   ]
  },
  {
   "cell_type": "code",
   "execution_count": 32,
   "metadata": {},
   "outputs": [
    {
     "name": "stdout",
     "output_type": "stream",
     "text": [
      "3: 856a4921cd32690244af7568e7bd1391a94119e17c7f33234f4bf11271b223e5\n",
      "4: 79043a4d1d4d6d0b830519bfc07b92b4d162a4cd54235719c2c3cc211a638dfd\n",
      "5: ef729c31d206229249bd791b29676d26cc7465aa6bc2003d80c7a82a316e0233\n",
      "6: 4746dc9c16f97469fa45710394c4a0e2f29226efc04cab47c29ce579ae19a74e\n",
      "34: 856a4921cd32690244af7568e7bd1391a94119e17c7f33234f4bf11271b223e579043a4d1d4d6d0b830519bfc07b92b4d162a4cd54235719c2c3cc211a638dfd\n",
      "56: ef729c31d206229249bd791b29676d26cc7465aa6bc2003d80c7a82a316e02334746dc9c16f97469fa45710394c4a0e2f29226efc04cab47c29ce579ae19a74e\n",
      "1: 41925fc3630f375e23755f04099f1b2c51f372a9792762b28478fbbc5faf1106\n",
      "2: 5c72c2fc6c2ed732c66fa8dc63f163617be1eb6175b88b3b640f440abb236e73\n",
      "12: 41925fc3630f375e23755f04099f1b2c51f372a9792762b28478fbbc5faf11065c72c2fc6c2ed732c66fa8dc63f163617be1eb6175b88b3b640f440abb236e73\n",
      "0: 5eaee129fb6c4761a542e919f8fd0fa3f3c3d83a33bbeeec5a7e8772ddfb8f88\n"
     ]
    },
    {
     "data": {
      "text/plain": [
       "{0: Text(0, 4, '5eaee129fb6c4761a542e919f8fd0fa3f3c3d83a33bbeeec5a7e8772ddfb8f88'),\n",
       " 1: Text(-2, 3, '41925fc3630f375e23755f04099f1b2c51f372a9792762b28478fbbc5faf1106'),\n",
       " 2: Text(2, 3, '5c72c2fc6c2ed732c66fa8dc63f163617be1eb6175b88b3b640f440abb236e73'),\n",
       " 3: Text(-3, 2, '856a4921cd32690244af7568e7bd1391a94119e17c7f33234f4bf11271b223e5'),\n",
       " 4: Text(-1, 2, '79043a4d1d4d6d0b830519bfc07b92b4d162a4cd54235719c2c3cc211a638dfd'),\n",
       " 5: Text(1, 2, 'ef729c31d206229249bd791b29676d26cc7465aa6bc2003d80c7a82a316e0233'),\n",
       " 6: Text(3, 2, '4746dc9c16f97469fa45710394c4a0e2f29226efc04cab47c29ce579ae19a74e'),\n",
       " 7: Text(-3, 1, 'tx1'),\n",
       " 8: Text(-1, 1, 'tx2'),\n",
       " 9: Text(1, 1, 'tx3'),\n",
       " 10: Text(3, 1, 'tx4')}"
      ]
     },
     "execution_count": 32,
     "metadata": {},
     "output_type": "execute_result"
    },
    {
     "data": {
      "image/png": "[encoded data removed]",
      "text/plain": [
       "<Figure size 432x288 with 1 Axes>"
      ]
     },
     "metadata": {},
     "output_type": "display_data"
    }
   ],
   "source": [
    "labels[4] = hashlib.sha256(hashlib.sha256(b\"tx2\").digest()).hexdigest()\n",
    "labels[5] = hashlib.sha256(hashlib.sha256(b\"tx3\").digest()).hexdigest()\n",
    "labels[6] = hashlib.sha256(hashlib.sha256(b\"tx4\").digest()).hexdigest()\n",
    "conc_34 = labels[3] + labels[4]\n",
    "conc_56 = labels[5] + labels[6]\n",
    "labels[1] = hashlib.sha256(hashlib.sha256(conc_34.encode('utf-8')).digest()).hexdigest()\n",
    "labels[2] = hashlib.sha256(hashlib.sha256(conc_56.encode('utf-8')).digest()).hexdigest()\n",
    "conc_12 = labels[1] + labels[2]\n",
    "labels[0] = hashlib.sha256(hashlib.sha256(conc_12.encode('utf-8')).digest()).hexdigest()\n",
    "print('3:',labels[3])\n",
    "print('4:',labels[4])\n",
    "print('5:',labels[5])\n",
    "print('6:',labels[6])\n",
    "print('34:',conc_34)\n",
    "print('56:',conc_56)\n",
    "print('1:', labels[1])\n",
    "print('2:', labels[2])\n",
    "print('12:',conc_12)\n",
    "print('0:',labels[0])\n",
    "nx.draw(G, positions, node_size = 1000)\n",
    "nx.draw_networkx_labels(G, positions, labels = labels, font_size = 8)\n"
   ]
  },
  {
   "cell_type": "markdown",
   "metadata": {},
   "source": [
    "2.Provide a proof of correctness of leaf tx2 (2 points). "
   ]
  },
  {
   "cell_type": "markdown",
   "metadata": {
    "collapsed": true
   },
   "source": [
    "We need to check: $hash(hash(3)+ hash(hash(tx_2))+ hash(2)) = hash(0)$"
   ]
  },
  {
   "cell_type": "code",
   "execution_count": 33,
   "metadata": {},
   "outputs": [
    {
     "name": "stdout",
     "output_type": "stream",
     "text": [
      "Leaf is correct\n"
     ]
    }
   ],
   "source": [
    "tx_2 = hashlib.sha256(hashlib.sha256(b\"tx2\").digest()).hexdigest()\n",
    "conc_1  = labels[3] + tx_2\n",
    "hash_1  = hashlib.sha256(hashlib.sha256(conc_1.encode('utf-8')).digest()).hexdigest()\n",
    "conc_2 = hash_1 + labels[2]\n",
    "hash_2  = hashlib.sha256(hashlib.sha256(conc_2.encode('utf-8')).digest()).hexdigest()\n",
    "if hash_2 == labels[0]:\n",
    "    print('Leaf is correct')"
   ]
  },
  {
   "cell_type": "markdown",
   "metadata": {},
   "source": [
    "3.Provide a proof of correctness for set of leafs (tx3-tx4) (2 points)"
   ]
  },
  {
   "cell_type": "markdown",
   "metadata": {
    "collapsed": true
   },
   "source": [
    "We need to check: $hash(hash(1) + hash(hash(tx_3) + hash(tx_4))) = hash(0)$"
   ]
  },
  {
   "cell_type": "code",
   "execution_count": 34,
   "metadata": {},
   "outputs": [
    {
     "name": "stdout",
     "output_type": "stream",
     "text": [
      "Leaf set is correct\n"
     ]
    }
   ],
   "source": [
    "tx_3 = hashlib.sha256(hashlib.sha256(b\"tx3\").digest()).hexdigest()\n",
    "tx_4 = hashlib.sha256(hashlib.sha256(b\"tx4\").digest()).hexdigest()\n",
    "concat_1 = tx_3+tx_4\n",
    "hash_3  = hashlib.sha256(hashlib.sha256(concat_1.encode('utf-8')).digest()).hexdigest()\n",
    "concat_2 = labels[1] + hash_3\n",
    "hash_4  = hashlib.sha256(hashlib.sha256(concat_2.encode('utf-8')).digest()).hexdigest()\n",
    "if hash_4 == labels[0]:\n",
    "    print('Leaf set is correct')\n",
    "\n"
   ]
  },
  {
   "cell_type": "markdown",
   "metadata": {},
   "source": [
    "4.Change the value on leaf tx1 and recompute corresponding hashes. Plot newly obtained Merkle hash tree (2 points)"
   ]
  },
  {
   "cell_type": "code",
   "execution_count": 35,
   "metadata": {},
   "outputs": [
    {
     "data": {
      "text/plain": [
       "{0: Text(0, 4, '0'),\n",
       " 1: Text(-2, 3, '1'),\n",
       " 2: Text(2, 3, '2'),\n",
       " 3: Text(-3, 2, '3'),\n",
       " 4: Text(-1, 2, '4'),\n",
       " 5: Text(1, 2, '5'),\n",
       " 6: Text(3, 2, '6'),\n",
       " 7: Text(-3, 1, 'thisisdzis'),\n",
       " 8: Text(-1, 1, 'tx2'),\n",
       " 9: Text(1, 1, 'tx3'),\n",
       " 10: Text(3, 1, 'th4')}"
      ]
     },
     "execution_count": 35,
     "metadata": {},
     "output_type": "execute_result"
    },
    {
     "data": {
      "image/png": "[encoded data removed]",
      "text/plain": [
       "<Figure size 432x288 with 1 Axes>"
      ]
     },
     "metadata": {},
     "output_type": "display_data"
    }
   ],
   "source": [
    "G1 = nx.Graph()\n",
    "positions1 = {}\n",
    "coordinates1 = [\n",
    "    [0, 4],\n",
    "    [-2, 3],\n",
    "    [2, 3],\n",
    "    [-3, 2],\n",
    "    [-1, 2],\n",
    "    [1, 2],\n",
    "    [3, 2],\n",
    "    [-3, 1],\n",
    "    [-1, 1],\n",
    "    [1, 1],\n",
    "    [3, 1]\n",
    "]\n",
    "parents1 = [0, 0, 0, 1, 1, 2, 2, 3, 4, 5, 6]\n",
    "for index in range(11):\n",
    "    G1.add_node(index)\n",
    "    G1.add_edge(index, parents1[index])\n",
    "    positions1[index] = coordinates1[index]\n",
    "nx.draw(G1, positions1, node_size = 1000)\n",
    "labels1 = {\n",
    "    0: '0',\n",
    "    1: '1',\n",
    "    2: '2',\n",
    "    3: '3',\n",
    "    4: '4',\n",
    "    5: '5',\n",
    "    6: '6',\n",
    "    7: 'thisisdzis',\n",
    "    8: 'tx2',\n",
    "    9: 'tx3',\n",
    "    10: 'th4',\n",
    "}\n",
    "nx.draw_networkx_labels(G1, positions, labels = labels1, font_size=8)"
   ]
  },
  {
   "cell_type": "code",
   "execution_count": 36,
   "metadata": {},
   "outputs": [
    {
     "data": {
      "text/plain": [
       "{0: Text(0, 4, '55dbaeeeec219486810b1094109a5121bfe67eed39480cf5038fc354bb29f360'),\n",
       " 1: Text(-2, 3, 'f1438c8cc32d433bb652168ac98456a0494828485970011ed3a03c1e49ccf53b'),\n",
       " 2: Text(2, 3, '5c72c2fc6c2ed732c66fa8dc63f163617be1eb6175b88b3b640f440abb236e73'),\n",
       " 3: Text(-3, 2, 'be5778c9a98689417fc55c738688f32341b6ca414c20c5bb33567d588f373cb6'),\n",
       " 4: Text(-1, 2, '79043a4d1d4d6d0b830519bfc07b92b4d162a4cd54235719c2c3cc211a638dfd'),\n",
       " 5: Text(1, 2, 'ef729c31d206229249bd791b29676d26cc7465aa6bc2003d80c7a82a316e0233'),\n",
       " 6: Text(3, 2, '4746dc9c16f97469fa45710394c4a0e2f29226efc04cab47c29ce579ae19a74e'),\n",
       " 7: Text(-3, 1, 'thisisdzis'),\n",
       " 8: Text(-1, 1, 'tx2'),\n",
       " 9: Text(1, 1, 'tx3'),\n",
       " 10: Text(3, 1, 'th4')}"
      ]
     },
     "execution_count": 36,
     "metadata": {},
     "output_type": "execute_result"
    },
    {
     "data": {
      "image/png": "[encoded data removed]",
      "text/plain": [
       "<Figure size 432x288 with 1 Axes>"
      ]
     },
     "metadata": {},
     "output_type": "display_data"
    }
   ],
   "source": [
    "labels1[3] = hashlib.sha256(hashlib.sha256(b\"thisisdzis\").digest()).hexdigest()\n",
    "labels1[4] = hashlib.sha256(hashlib.sha256(b\"tx2\").digest()).hexdigest()\n",
    "labels1[5] = hashlib.sha256(hashlib.sha256(b\"tx3\").digest()).hexdigest()\n",
    "labels1[6] = hashlib.sha256(hashlib.sha256(b\"tx4\").digest()).hexdigest()\n",
    "concat_34 = labels1[3] + labels1[4]\n",
    "concat_56 = labels1[5] + labels1[6]\n",
    "labels1[1] = hashlib.sha256(hashlib.sha256(concat_34.encode('utf-8')).digest()).hexdigest()\n",
    "labels1[2] = hashlib.sha256(hashlib.sha256(concat_56.encode('utf-8')).digest()).hexdigest()\n",
    "concat_12 = labels1[1] + labels1[2]\n",
    "labels1[0] = hashlib.sha256(hashlib.sha256(concat_12.encode('utf-8')).digest()).hexdigest()\n",
    "nx.draw(G1, positions1, node_size = 1000)\n",
    "nx.draw_networkx_labels(G1, positions1, labels = labels1, font_size = 8)"
   ]
  },
  {
   "cell_type": "markdown",
   "metadata": {},
   "source": [
    "5.Nodes in Merkle hash trees may have arbitrary fanout. In previouse items we consider the case of fanout equals to two. But what will change if we set a fanout equals to three? Construct Merkle hash trees with fanout 3 to sign 9 values? Construct the hash tree with fanout 2 to sign the same set of values? Plot obtained trees (4 points) "
   ]
  },
  {
   "cell_type": "code",
   "execution_count": 37,
   "metadata": {},
   "outputs": [
    {
     "data": {
      "text/plain": [
       "{0: Text(0, 4, '0'),\n",
       " 1: Text(-4, 3, '1'),\n",
       " 2: Text(0, 3, '2'),\n",
       " 3: Text(4, 3, '3'),\n",
       " 4: Text(-5, 2, '4'),\n",
       " 5: Text(-4, 2, '5'),\n",
       " 6: Text(-3, 2, '6'),\n",
       " 7: Text(-1, 2, '7'),\n",
       " 8: Text(0, 2, '8'),\n",
       " 9: Text(1, 2, '9'),\n",
       " 10: Text(3, 2, '10'),\n",
       " 11: Text(4, 2, '11'),\n",
       " 12: Text(5, 2, '12'),\n",
       " 13: Text(-5, 1, 'tx1'),\n",
       " 14: Text(-4, 1, 'tx2'),\n",
       " 15: Text(-3, 1, 'tx3'),\n",
       " 16: Text(-1, 1, 'tx4'),\n",
       " 17: Text(0, 1, 'tx5'),\n",
       " 18: Text(1, 1, 'tx6'),\n",
       " 19: Text(3, 1, 'tx7'),\n",
       " 20: Text(4, 1, 'tx8'),\n",
       " 21: Text(5, 1, 'tx9')}"
      ]
     },
     "execution_count": 37,
     "metadata": {},
     "output_type": "execute_result"
    },
    {
     "data": {
      "image/png": "[encoded data removed]",
      "text/plain": [
       "<Figure size 432x288 with 1 Axes>"
      ]
     },
     "metadata": {},
     "output_type": "display_data"
    }
   ],
   "source": [
    "G2 = nx.Graph()\n",
    "positions2 = {}\n",
    "coordinates2 = [\n",
    "    [0, 4],\n",
    "    [-4, 3],\n",
    "    [0, 3],\n",
    "    [4, 3],\n",
    "    [-5, 2],\n",
    "    [-4, 2],\n",
    "    [-3, 2],\n",
    "    [-1, 2],\n",
    "    [0, 2],\n",
    "    [1, 2],\n",
    "    [3, 2],\n",
    "    [4, 2],\n",
    "    [5, 2],\n",
    "    [-5, 1],\n",
    "    [-4, 1],\n",
    "    [-3, 1],\n",
    "    [-1, 1],\n",
    "    [0, 1],\n",
    "    [1, 1],\n",
    "    [3, 1],\n",
    "    [4, 1],\n",
    "    [5, 1]\n",
    "    \n",
    "    \n",
    "]\n",
    "parents2 = [0, 0, 0, 0, 1, 1, 1, 2, 2, 2, 3, 3, 3, 4, 5, 6, 7, 8, 9, 10, 11, 12]\n",
    "for index in range(22):\n",
    "    G2.add_node(index)\n",
    "    G2.add_edge(index, parents2[index])\n",
    "    positions2[index] = coordinates2[index]\n",
    "nx.draw(G2, positions2, node_size = 1000)\n",
    "labels3 = {\n",
    "    0: '0',\n",
    "    1: '1',\n",
    "    2: '2',\n",
    "    3: '3',\n",
    "    4: '4',\n",
    "    5: '5',\n",
    "    6: '6',\n",
    "    7: '7',\n",
    "    8: '8',\n",
    "    9: '9',\n",
    "    10: '10',\n",
    "    11: '11',\n",
    "    12: '12',\n",
    "    13: 'tx1',\n",
    "    14: 'tx2',\n",
    "    15: 'tx3',\n",
    "    16: 'tx4',\n",
    "    17: 'tx5',\n",
    "    18: 'tx6',\n",
    "    19: 'tx7',\n",
    "    20: 'tx8',\n",
    "    21: 'tx9'\n",
    "}\n",
    "nx.draw_networkx_labels(G2, positions2,labels=labels3, font_size=8)"
   ]
  },
  {
   "cell_type": "code",
   "execution_count": 38,
   "metadata": {},
   "outputs": [
    {
     "data": {
      "text/plain": [
       "{0: Text(0, 4, 'e7296a950ce7691ac317379ed5ab311cb1cdd4904b59ed20d410bc51b7f69196'),\n",
       " 1: Text(-4, 3, '66ed30b63243fcd5bd1b7414b59e2c2346ea01ca124d58651653ee4e5f47a43b'),\n",
       " 2: Text(0, 3, 'c8cfb3fc3818c0aa840299e590ce437472935b00cf9f2b49ea559f7e3f8c012f'),\n",
       " 3: Text(4, 3, 'd9dccb4196250a8861ce62b1f8e7e44563c936562337a98cb39d5f69c4696501'),\n",
       " 4: Text(-5, 2, '856a4921cd32690244af7568e7bd1391a94119e17c7f33234f4bf11271b223e5'),\n",
       " 5: Text(-4, 2, '79043a4d1d4d6d0b830519bfc07b92b4d162a4cd54235719c2c3cc211a638dfd'),\n",
       " 6: Text(-3, 2, 'ef729c31d206229249bd791b29676d26cc7465aa6bc2003d80c7a82a316e0233'),\n",
       " 7: Text(-1, 2, '4746dc9c16f97469fa45710394c4a0e2f29226efc04cab47c29ce579ae19a74e'),\n",
       " 8: Text(0, 2, '929e74a52e6f0d8390d60d631d6dc8fb6cde5f10c04c7053bc94ce3f62759823'),\n",
       " 9: Text(1, 2, 'ccd702558bb588ba5d49d2ec85af0453fae434476f205ad6caa93da525f86627'),\n",
       " 10: Text(3, 2, '038edc078728e6455aa202890dec7d4635f2180e999f1a7c280c0283e5dc9ccf'),\n",
       " 11: Text(4, 2, '9cb58fa7c7cf21f3e426c113f8f48c115402a476024f21edd7db637f06bb8f76'),\n",
       " 12: Text(5, 2, '1d5acdeb18c0a72f5ec33b8049b7990cdd40ee81acae5375dfd0f1c06c32252b'),\n",
       " 13: Text(-5, 1, 'tx1'),\n",
       " 14: Text(-4, 1, 'tx2'),\n",
       " 15: Text(-3, 1, 'tx3'),\n",
       " 16: Text(-1, 1, 'tx4'),\n",
       " 17: Text(0, 1, 'tx5'),\n",
       " 18: Text(1, 1, 'tx6'),\n",
       " 19: Text(3, 1, 'tx7'),\n",
       " 20: Text(4, 1, 'tx8'),\n",
       " 21: Text(5, 1, 'tx9')}"
      ]
     },
     "execution_count": 38,
     "metadata": {},
     "output_type": "execute_result"
    },
    {
     "data": {
      "image/png": "[encoded data removed]",
      "text/plain": [
       "<Figure size 432x288 with 1 Axes>"
      ]
     },
     "metadata": {},
     "output_type": "display_data"
    }
   ],
   "source": [
    "labels3[4] = hashlib.sha256(hashlib.sha256(b\"tx1\").digest()).hexdigest()\n",
    "labels3[5] = hashlib.sha256(hashlib.sha256(b\"tx2\").digest()).hexdigest()\n",
    "labels3[6] = hashlib.sha256(hashlib.sha256(b\"tx3\").digest()).hexdigest()\n",
    "labels3[7] = hashlib.sha256(hashlib.sha256(b\"tx4\").digest()).hexdigest()\n",
    "labels3[8] = hashlib.sha256(hashlib.sha256(b\"tx5\").digest()).hexdigest()\n",
    "labels3[9] = hashlib.sha256(hashlib.sha256(b\"tx6\").digest()).hexdigest()\n",
    "labels3[10] = hashlib.sha256(hashlib.sha256(b\"tx7\").digest()).hexdigest()\n",
    "labels3[11] = hashlib.sha256(hashlib.sha256(b\"tx8\").digest()).hexdigest()\n",
    "labels3[12] = hashlib.sha256(hashlib.sha256(b\"tx9\").digest()).hexdigest()\n",
    "conct_456 = labels3[4] + labels3[5] + labels3[6]\n",
    "conct_789 = labels3[7] + labels3[8] + labels3[9]\n",
    "conct_012 = labels3[10] + labels3[11] + labels3[12]\n",
    "labels3[1] = hashlib.sha256(hashlib.sha256(conct_456.encode('utf-8')).digest()).hexdigest()\n",
    "labels3[2] = hashlib.sha256(hashlib.sha256(conct_789.encode('utf-8')).digest()).hexdigest()\n",
    "labels3[3] = hashlib.sha256(hashlib.sha256(conct_012.encode('utf-8')).digest()).hexdigest()\n",
    "conct_123 = labels3[1] + labels3[2] + labels3[3]\n",
    "labels3[0] = hashlib.sha256(hashlib.sha256(conct_123.encode('utf-8')).digest()).hexdigest()\n",
    "nx.draw(G2, positions2, node_size = 1000)\n",
    "nx.draw_networkx_labels(G2, positions2,labels=labels3, font_size=8)"
   ]
  },
  {
   "cell_type": "markdown",
   "metadata": {},
   "source": [
    "We should extend our tree to size 16, we will do it by coping tx9."
   ]
  },
  {
   "cell_type": "code",
   "execution_count": 39,
   "metadata": {},
   "outputs": [
    {
     "data": {
      "text/plain": [
       "{0: Text(0, 5, '0'),\n",
       " 1: Text(-8, 4, '1'),\n",
       " 2: Text(8, 4, '2'),\n",
       " 3: Text(-12, 3, '3'),\n",
       " 4: Text(-4, 3, '4'),\n",
       " 5: Text(4, 3, '5'),\n",
       " 6: Text(12, 3, '6'),\n",
       " 7: Text(-14, 2, '7'),\n",
       " 8: Text(-10, 2, '8'),\n",
       " 9: Text(-6, 2, '9'),\n",
       " 10: Text(-2, 2, '10'),\n",
       " 11: Text(2, 2, '11'),\n",
       " 12: Text(6, 2, '12'),\n",
       " 13: Text(10, 2, '13'),\n",
       " 14: Text(14, 2, '14'),\n",
       " 15: Text(-15, 1, '15'),\n",
       " 16: Text(-13, 1, '16'),\n",
       " 17: Text(-11, 1, '17'),\n",
       " 18: Text(-9, 1, '18'),\n",
       " 19: Text(-7, 1, '19'),\n",
       " 20: Text(-5, 1, '20'),\n",
       " 21: Text(-3, 1, '21'),\n",
       " 22: Text(-1, 1, '22'),\n",
       " 23: Text(1, 1, '23'),\n",
       " 24: Text(3, 1, '24'),\n",
       " 25: Text(5, 1, '25'),\n",
       " 26: Text(7, 1, '26'),\n",
       " 27: Text(9, 1, '27'),\n",
       " 28: Text(11, 1, '28'),\n",
       " 29: Text(13, 1, '29'),\n",
       " 30: Text(15, 1, '30'),\n",
       " 31: Text(-15, 0, 'tx1'),\n",
       " 32: Text(-13, 0, 'tx2'),\n",
       " 33: Text(-11, 0, 'tx3'),\n",
       " 34: Text(-9, 0, 'tx4'),\n",
       " 35: Text(-7, 0, 'tx5'),\n",
       " 36: Text(-5, 0, 'tx6'),\n",
       " 37: Text(-3, 0, 'tx7'),\n",
       " 38: Text(-1, 0, 'tx8'),\n",
       " 39: Text(1, 0, 'tx9'),\n",
       " 40: Text(3, 0, 'tx9'),\n",
       " 41: Text(5, 0, 'tx9'),\n",
       " 42: Text(7, 0, 'tx9'),\n",
       " 43: Text(9, 0, 'tx9'),\n",
       " 44: Text(11, 0, 'tx9'),\n",
       " 45: Text(13, 0, 'tx9'),\n",
       " 46: Text(15, 0, 'tx9')}"
      ]
     },
     "execution_count": 39,
     "metadata": {},
     "output_type": "execute_result"
    },
    {
     "data": {
      "image/png": "[encoded data removed]",
      "text/plain": [
       "<Figure size 432x288 with 1 Axes>"
      ]
     },
     "metadata": {},
     "output_type": "display_data"
    }
   ],
   "source": [
    "G3 = nx.Graph()\n",
    "positions3 = {}\n",
    "coordinates3 = [\n",
    "    [0, 5],\n",
    "    [-8, 4],\n",
    "    [8, 4],\n",
    "    [-12, 3],\n",
    "    [-4, 3],\n",
    "    [4, 3],\n",
    "    [12, 3],\n",
    "    [-14, 2],\n",
    "    [-10, 2],\n",
    "    [-6, 2],\n",
    "    [-2, 2],\n",
    "    [2, 2],\n",
    "    [6, 2],\n",
    "    [10, 2],\n",
    "    [14, 2],\n",
    "    [-15, 1],\n",
    "    [-13, 1],\n",
    "    [-11, 1],\n",
    "    [-9, 1],\n",
    "    [-7, 1],\n",
    "    [-5, 1],\n",
    "    [-3, 1],\n",
    "    [-1, 1],\n",
    "    [1, 1],\n",
    "    [3, 1],\n",
    "    [5, 1],\n",
    "    [7, 1],\n",
    "    [9, 1],\n",
    "    [11, 1],\n",
    "    [13, 1],\n",
    "    [15, 1],\n",
    "    [-15, 0],\n",
    "    [-13, 0],\n",
    "    [-11, 0],\n",
    "    [-9, 0],\n",
    "    [-7, 0],\n",
    "    [-5, 0],\n",
    "    [-3, 0],\n",
    "    [-1, 0],\n",
    "    [1, 0],\n",
    "    [3, 0],\n",
    "    [5, 0],\n",
    "    [7, 0],\n",
    "    [9, 0],\n",
    "    [11, 0],\n",
    "    [13, 0],\n",
    "    [15, 0],\n",
    "]\n",
    "parents3 = [0, 0, 0, 1, 1, 2, 2, 3, 3, 4, 4, 5,5, 6, 6, 7, 7, 8, 8, 9, 9, 10,10, 11,11,12, 12, 13,13, 14,14, 15, 16, 17, 18, 19, 20, 21, 22, 23, 24, 25, 26, 27, 28, 29,30]\n",
    "for index in range(47):\n",
    "    G3.add_node(index)\n",
    "    G3.add_edge(index, parents3[index])\n",
    "    positions3[index] = coordinates3[index]\n",
    "nx.draw(G3, positions3, node_size = 1000)\n",
    "label = {\n",
    "    0: '0',\n",
    "    1: '1',\n",
    "    2: '2',\n",
    "    3: '3',\n",
    "    4: '4',\n",
    "    5: '5',\n",
    "    6: '6',\n",
    "    7: '7',\n",
    "    8: '8',\n",
    "    9: '9',\n",
    "    10: '10',\n",
    "    11: '11',\n",
    "    12: '12',\n",
    "    13: '13',\n",
    "    14: '14',\n",
    "    15: '15',\n",
    "    16: '16',\n",
    "    17: '17',\n",
    "    18: '18',\n",
    "    19: '19',\n",
    "    20: '20',\n",
    "    21: '21',\n",
    "    22: '22',\n",
    "    23: '23',\n",
    "    24: '24',\n",
    "    25: '25',\n",
    "    26: '26',\n",
    "    27: '27',\n",
    "    28: '28',\n",
    "    29: '29',\n",
    "    30: '30',\n",
    "    31: 'tx1',\n",
    "    32: 'tx2',\n",
    "    33: 'tx3',\n",
    "    34: 'tx4',\n",
    "    35: 'tx5',\n",
    "    36: 'tx6',\n",
    "    37: 'tx7',\n",
    "    38: 'tx8',\n",
    "    39: 'tx9',\n",
    "    40: 'tx9',\n",
    "    41: 'tx9',\n",
    "    42: 'tx9',\n",
    "    43: 'tx9',\n",
    "    44: 'tx9',\n",
    "    45: 'tx9',\n",
    "    46: 'tx9',\n",
    "}\n",
    "nx.draw_networkx_labels(G3, positions3,labels = label, font_size=8)"
   ]
  },
  {
   "cell_type": "code",
   "execution_count": 40,
   "metadata": {},
   "outputs": [
    {
     "data": {
      "text/plain": [
       "{0: Text(0, 5, 'ad988af921a45aede9fb4929a5158cc18c71feee30135bc143d5184870157a5d'),\n",
       " 1: Text(-8, 4, '7ed0ef1f4a0f7e02413d0f19708f9bde561158a5edd44315ea84e0f18ad7bce3'),\n",
       " 2: Text(8, 4, 'f95b1a31b5b385a4beb19750f1a55eb190fa4052cb64c612267667aea5b42e0b'),\n",
       " 3: Text(-12, 3, '5eaee129fb6c4761a542e919f8fd0fa3f3c3d83a33bbeeec5a7e8772ddfb8f88'),\n",
       " 4: Text(-4, 3, 'd39c3a46d7a6dfcf4442264d564bd484d32bc7d4cf4557d66cf23564c20d90e9'),\n",
       " 5: Text(4, 3, 'ea8c9a579d6169511871640390c3ec3ebbf1d1e3a2223a2480dbcee394fcf39d'),\n",
       " 6: Text(12, 3, 'ea8c9a579d6169511871640390c3ec3ebbf1d1e3a2223a2480dbcee394fcf39d'),\n",
       " 7: Text(-14, 2, '41925fc3630f375e23755f04099f1b2c51f372a9792762b28478fbbc5faf1106'),\n",
       " 8: Text(-10, 2, '5c72c2fc6c2ed732c66fa8dc63f163617be1eb6175b88b3b640f440abb236e73'),\n",
       " 9: Text(-6, 2, 'd6729da948be8eb1fddfc506ce39885194787a93bef6b3ab9086e1685bddfc2f'),\n",
       " 10: Text(-2, 2, 'ea7690966598257569c816a598a57638cfd7b0b1e43b1bf5d0a62f4de981a7e8'),\n",
       " 11: Text(2, 2, 'cd3acf8e7b2176aa890427af14600cba77dc39175d8c4f825ecc762871b2c7ec'),\n",
       " 12: Text(6, 2, 'cd3acf8e7b2176aa890427af14600cba77dc39175d8c4f825ecc762871b2c7ec'),\n",
       " 13: Text(10, 2, 'cd3acf8e7b2176aa890427af14600cba77dc39175d8c4f825ecc762871b2c7ec'),\n",
       " 14: Text(14, 2, 'cd3acf8e7b2176aa890427af14600cba77dc39175d8c4f825ecc762871b2c7ec'),\n",
       " 15: Text(-15, 1, '856a4921cd32690244af7568e7bd1391a94119e17c7f33234f4bf11271b223e5'),\n",
       " 16: Text(-13, 1, '79043a4d1d4d6d0b830519bfc07b92b4d162a4cd54235719c2c3cc211a638dfd'),\n",
       " 17: Text(-11, 1, 'ef729c31d206229249bd791b29676d26cc7465aa6bc2003d80c7a82a316e0233'),\n",
       " 18: Text(-9, 1, '4746dc9c16f97469fa45710394c4a0e2f29226efc04cab47c29ce579ae19a74e'),\n",
       " 19: Text(-7, 1, '929e74a52e6f0d8390d60d631d6dc8fb6cde5f10c04c7053bc94ce3f62759823'),\n",
       " 20: Text(-5, 1, 'ccd702558bb588ba5d49d2ec85af0453fae434476f205ad6caa93da525f86627'),\n",
       " 21: Text(-3, 1, '038edc078728e6455aa202890dec7d4635f2180e999f1a7c280c0283e5dc9ccf'),\n",
       " 22: Text(-1, 1, '9cb58fa7c7cf21f3e426c113f8f48c115402a476024f21edd7db637f06bb8f76'),\n",
       " 23: Text(1, 1, '1d5acdeb18c0a72f5ec33b8049b7990cdd40ee81acae5375dfd0f1c06c32252b'),\n",
       " 24: Text(3, 1, '1d5acdeb18c0a72f5ec33b8049b7990cdd40ee81acae5375dfd0f1c06c32252b'),\n",
       " 25: Text(5, 1, '1d5acdeb18c0a72f5ec33b8049b7990cdd40ee81acae5375dfd0f1c06c32252b'),\n",
       " 26: Text(7, 1, '1d5acdeb18c0a72f5ec33b8049b7990cdd40ee81acae5375dfd0f1c06c32252b'),\n",
       " 27: Text(9, 1, '1d5acdeb18c0a72f5ec33b8049b7990cdd40ee81acae5375dfd0f1c06c32252b'),\n",
       " 28: Text(11, 1, '1d5acdeb18c0a72f5ec33b8049b7990cdd40ee81acae5375dfd0f1c06c32252b'),\n",
       " 29: Text(13, 1, '1d5acdeb18c0a72f5ec33b8049b7990cdd40ee81acae5375dfd0f1c06c32252b'),\n",
       " 30: Text(15, 1, '1d5acdeb18c0a72f5ec33b8049b7990cdd40ee81acae5375dfd0f1c06c32252b'),\n",
       " 31: Text(-15, 0, 'tx1'),\n",
       " 32: Text(-13, 0, 'tx2'),\n",
       " 33: Text(-11, 0, 'tx3'),\n",
       " 34: Text(-9, 0, 'tx4'),\n",
       " 35: Text(-7, 0, 'tx5'),\n",
       " 36: Text(-5, 0, 'tx6'),\n",
       " 37: Text(-3, 0, 'tx7'),\n",
       " 38: Text(-1, 0, 'tx8'),\n",
       " 39: Text(1, 0, 'tx9'),\n",
       " 40: Text(3, 0, 'tx9'),\n",
       " 41: Text(5, 0, 'tx9'),\n",
       " 42: Text(7, 0, 'tx9'),\n",
       " 43: Text(9, 0, 'tx9'),\n",
       " 44: Text(11, 0, 'tx9'),\n",
       " 45: Text(13, 0, 'tx9'),\n",
       " 46: Text(15, 0, 'tx9')}"
      ]
     },
     "execution_count": 40,
     "metadata": {},
     "output_type": "execute_result"
    },
    {
     "data": {
      "image/png": "[encoded data removed]",
      "text/plain": [
       "<Figure size 432x288 with 1 Axes>"
      ]
     },
     "metadata": {},
     "output_type": "display_data"
    }
   ],
   "source": [
    "label[15] = hashlib.sha256(hashlib.sha256(b\"tx1\").digest()).hexdigest()\n",
    "label[16] = hashlib.sha256(hashlib.sha256(b\"tx2\").digest()).hexdigest()\n",
    "label[17] = hashlib.sha256(hashlib.sha256(b\"tx3\").digest()).hexdigest()\n",
    "label[18] = hashlib.sha256(hashlib.sha256(b\"tx4\").digest()).hexdigest()\n",
    "label[19] = hashlib.sha256(hashlib.sha256(b\"tx5\").digest()).hexdigest()\n",
    "label[20] = hashlib.sha256(hashlib.sha256(b\"tx6\").digest()).hexdigest()\n",
    "label[21] = hashlib.sha256(hashlib.sha256(b\"tx7\").digest()).hexdigest()\n",
    "label[22] = hashlib.sha256(hashlib.sha256(b\"tx8\").digest()).hexdigest()\n",
    "label[23] = hashlib.sha256(hashlib.sha256(b\"tx9\").digest()).hexdigest()\n",
    "label[24] = label[23]\n",
    "label[25] = label[23]\n",
    "label[26] = label[23]\n",
    "label[27] = label[23]\n",
    "label[28] = label[23]\n",
    "label[29] = label[23]\n",
    "label[30] = label[23]\n",
    "cnct_7 = label[15] + label[16]\n",
    "cnct_8 = label[17] + label[18]\n",
    "cnct_9 = label[19] + label[20]\n",
    "cnct_10 = label[21] + label[22]\n",
    "cnct_11 = label[23] + label[24]\n",
    "cnct_12 = label[25] + label[26]\n",
    "cnct_13 = label[27] + label[28]\n",
    "cnct_14 = label[29] + label[30]\n",
    "label[7] = hashlib.sha256(hashlib.sha256(cnct_7.encode('utf-8')).digest()).hexdigest()\n",
    "label[8] = hashlib.sha256(hashlib.sha256(cnct_8.encode('utf-8')).digest()).hexdigest()\n",
    "label[9] = hashlib.sha256(hashlib.sha256(cnct_9.encode('utf-8')).digest()).hexdigest()\n",
    "label[10] = hashlib.sha256(hashlib.sha256(cnct_10.encode('utf-8')).digest()).hexdigest()\n",
    "label[11] = hashlib.sha256(hashlib.sha256(cnct_11.encode('utf-8')).digest()).hexdigest()\n",
    "label[12] = hashlib.sha256(hashlib.sha256(cnct_12.encode('utf-8')).digest()).hexdigest()\n",
    "label[13] = hashlib.sha256(hashlib.sha256(cnct_13.encode('utf-8')).digest()).hexdigest()\n",
    "label[14] = hashlib.sha256(hashlib.sha256(cnct_14.encode('utf-8')).digest()).hexdigest()\n",
    "cnct_3 = label[7] + label[8]\n",
    "cnct_4 = label[9] + label[10]\n",
    "cnct_5 = label[11] + label[12]\n",
    "cnct_6 = label[13] + label[14]\n",
    "label[3] = hashlib.sha256(hashlib.sha256(cnct_3.encode('utf-8')).digest()).hexdigest()\n",
    "label[4] = hashlib.sha256(hashlib.sha256(cnct_4.encode('utf-8')).digest()).hexdigest()\n",
    "label[5] = hashlib.sha256(hashlib.sha256(cnct_5.encode('utf-8')).digest()).hexdigest()\n",
    "label[6] = hashlib.sha256(hashlib.sha256(cnct_6.encode('utf-8')).digest()).hexdigest()\n",
    "cnct_1 = label[3] + label[4]\n",
    "cnct_2 = label[5] +label[6]\n",
    "label[1] = hashlib.sha256(hashlib.sha256(cnct_1.encode('utf-8')).digest()).hexdigest()\n",
    "label[2] = hashlib.sha256(hashlib.sha256(cnct_2.encode('utf-8')).digest()).hexdigest()\n",
    "cnct_0 = label[1] + label[2]\n",
    "label[0] = hashlib.sha256(hashlib.sha256(cnct_0.encode('utf-8')).digest()).hexdigest()\n",
    "nx.draw(G3, positions3, node_size = 1000)\n",
    "nx.draw_networkx_labels(G3, positions3,labels=label, font_size=8)"
   ]
  },
  {
   "cell_type": "markdown",
   "metadata": {},
   "source": [
    "6.What is the optimum tree fanout for signing first 4 values in the set up of previouse item? (2 points)"
   ]
  },
  {
   "cell_type": "markdown",
   "metadata": {},
   "source": [
    "The goal is to find optimal tree fanout for 9 values to sign first 4 values. Despite of all, we have to count at least this 4 hash values to valid this values. So the goal of finding optimal fanout equals to the goal minimizing an amount of hashes to recount. From the previous task we can see, that fanout 2 and 3 are not so optimal, as it's expected to be: fanout 3 gives 6 recounts, fanout 2 gives 8 recounts. The optimal fanout is 9, because we have to recount only 4 values, which is minimum, that we can achieve."
   ]
  }
 ],
 "metadata": {
  "kernelspec": {
   "display_name": "Python 3",
   "language": "python",
   "name": "python3"
  },
  "language_info": {
   "codemirror_mode": {
    "name": "ipython",
    "version": 3
   },
   "file_extension": ".py",
   "mimetype": "text/x-python",
   "name": "python",
   "nbconvert_exporter": "python",
   "pygments_lexer": "ipython3",
   "version": "3.6.5"
  }
 },
 "nbformat": 4,
 "nbformat_minor": 2
}

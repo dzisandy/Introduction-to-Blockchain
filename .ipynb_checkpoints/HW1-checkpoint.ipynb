{
 "cells": [
  {
   "cell_type": "markdown",
   "metadata": {},
   "source": [
    "# Introduction to blockchain HW 1"
   ]
  },
  {
   "cell_type": "markdown",
   "metadata": {},
   "source": [
    "## Problem 1 (10 points)\n",
    "\n",
    "Assume that at the end of the term an instructor uses an RSA Public Key Cryptosystem to sign the grades sent to students and to the Education Office. He signs each grade with his private key and transmits both the grade and the signature in a secure manner encrypted with a public key. After you decrypt the message you use his public key to decipher the signature and verify the grade. Assume the cryptosystem has the following features: n=55, e=33 and that the grading system features integer grades from 0 to 10. You have received the grade-signature pairs 8||13 and 6||41"
   ]
  },
  {
   "cell_type": "markdown",
   "metadata": {},
   "source": [
    "1.Verify that the grades you received are indeed originating from the instructor showing just intermediate results of your calculation (2 points)"
   ]
  },
  {
   "cell_type": "markdown",
   "metadata": {},
   "source": [
    "Open key {e,n} = {33,55}, received messages: {$m_1,s_1$} = {8,13}, {$m_2,s_2$} = {6,41}. To prove grades we need to calculate $m' = s^e mod(n)$ and check with m.\n",
    "Let's do it: $m'_1 = s_1^e mod(n) = 13^{33} mod(55) = 8, m'_2 = s_2^e mod(n) = 41^{33} mod(55) = 6$\n",
    "That means, that $m_1' = m_1, m_2' = m_2$, grades are correct and come from instructor."
   ]
  },
  {
   "cell_type": "markdown",
   "metadata": {},
   "source": [
    "2.Given the information above only can you fabricate the instructors’ signature for another grade? If yes, for which grade and how? (3 points)"
   ]
  },
  {
   "cell_type": "markdown",
   "metadata": {},
   "source": [
    "We can use multiplicative property of RSA, let's create new message as a product of 2 messages received $m_{new} = m*m mod(n)$, it will have $s_{new} = s*smod(n)$, because we have grades from 0 to 10, the only variant is to create $m_{new} = 8*8 mod(55) = 9 $, signature $s_{new} = 13*13 mod(55) = 4$. \n",
    "\n",
    "Let's prove, that attack is correct:\n",
    "new message {$m_{new},s_{new}$} = {9,4}, \n",
    "\n",
    "then signature proof: $m'_{new} = s_{new}^e mod(n) = 4^{33} mod(55) = 9$, so we corrupted the message and received grade 9."
   ]
  },
  {
   "cell_type": "markdown",
   "metadata": {},
   "source": [
    "3.What would you advise the instructor to do so as to prevent such fabrication? (2 points)"
   ]
  },
  {
   "cell_type": "markdown",
   "metadata": {},
   "source": [
    "use bigger n = 11*13 for example????"
   ]
  },
  {
   "cell_type": "markdown",
   "metadata": {},
   "source": [
    "4.Discuss what can go wrong in case the instructor sends a grade secretly by first enciphering it with a student’s public key, then signing it with his private key. Provide an example (3 points) "
   ]
  },
  {
   "cell_type": "markdown",
   "metadata": {},
   "source": [
    "We can currupt the grade and signature by discovering private key. Private key to be calculated the following: $d = e^{-1} mod \\varphi(n)$ , so for {e,n} = {33,55}, we have d = 17. After that, we can create any grade and signature {c,s} we like by following: $c = m^e mod(n), s = m^d mod(n)$ So fake grade, for example 9: $c = 10^{33} mod(55) = 14, s = 9^{17} mod(55) = 4$.\n",
    "\n",
    "So the received fake will be {14,4}. \n"
   ]
  },
  {
   "cell_type": "markdown",
   "metadata": {},
   "source": [
    "## Problem 2 (10 points)"
   ]
  },
  {
   "cell_type": "markdown",
   "metadata": {},
   "source": [
    "El-Gamal is videly used cryptographic standart. In this task you will implement El-Gamal encryption scheme using Python"
   ]
  },
  {
   "cell_type": "markdown",
   "metadata": {},
   "source": [
    "1.Implement function for generating keys. The function must generate big random prime number (problem of generating big prime numbers was discussed during seminar after lecture 3). (2 points)"
   ]
  },
  {
   "cell_type": "code",
   "execution_count": 95,
   "metadata": {},
   "outputs": [],
   "source": [
    "from random import randint\n",
    "import math\n",
    "\n",
    "def is_prime(num, test_count):\n",
    "    if num == 1:\n",
    "        return False\n",
    "    if test_count >= num:\n",
    "        test_count = num - 1\n",
    "    for x in range(test_count):\n",
    "        val = randint(1, num - 1)\n",
    "        if pow(val, num-1, num) != 1:\n",
    "            return False\n",
    "    return True\n",
    "\n",
    "def generate_big_prime(n, test_count=1000):\n",
    "    found_prime = False\n",
    "    while not found_prime:\n",
    "        p = randint(2**(n-1), 2**n)\n",
    "        if is_prime(p, test_count):\n",
    "            return p\n",
    "def roots(n):\n",
    "    ans = 0\n",
    "    x = set(j for j in range (1, n) if math.gcd(j, n) == 1)\n",
    "    for i in range(1, n):\n",
    "        y = set((i**k) % n for k in range (1, n))\n",
    "        if x == y:\n",
    "            ans = i \n",
    "    return ans\n",
    "\n",
    "def gen_key(n):\n",
    "    p = generate_big_prime(n)\n",
    "    x = randint(1,p-1)\n",
    "    g = roots(p)\n",
    "    y = (g**x)%p\n",
    "    return p,g,x,y\n",
    "\n"
   ]
  },
  {
   "cell_type": "markdown",
   "metadata": {},
   "source": [
    "2.Implement functions that realize the encryption and decryption functions. (2 points)"
   ]
  },
  {
   "cell_type": "code",
   "execution_count": 96,
   "metadata": {},
   "outputs": [],
   "source": [
    "def encrypt(m,n):\n",
    "    p,g,x,y = gen_key(n)\n",
    "    if m > p:\n",
    "        return 0\n",
    "    else:\n",
    "        k = randint(1,p-1)\n",
    "        a = (g**k)%p\n",
    "        b = ((y**k)*m)%p\n",
    "    return a,b,p,x\n",
    "\n",
    "def decrypt(a,b,p,x):\n",
    "    m = (b*a**(p-1-x))%p\n",
    "    return m"
   ]
  },
  {
   "cell_type": "markdown",
   "metadata": {},
   "source": [
    "3.Test your functions on random values and show that your realization works correctly (1 point)"
   ]
  },
  {
   "cell_type": "code",
   "execution_count": 97,
   "metadata": {},
   "outputs": [],
   "source": [
    "def test(n):\n",
    "    number =  randint(1,2**(n-1))\n",
    "    print('Message:', number)\n",
    "    a,b,p,x = encrypt(number,n)\n",
    "    print('Encrypcted: (a,b) = ',a,b)\n",
    "    d = decrypt(a,b,p,x)\n",
    "    print('Decrypted, message:', d)\n"
   ]
  },
  {
   "cell_type": "code",
   "execution_count": 98,
   "metadata": {},
   "outputs": [
    {
     "name": "stdout",
     "output_type": "stream",
     "text": [
      "Message: 248\n",
      "Encrypcted: (a,b) =  317 490\n",
      "Decrypted, message: 248\n"
     ]
    }
   ],
   "source": [
    "test(10)"
   ]
  },
  {
   "cell_type": "markdown",
   "metadata": {},
   "source": [
    "4.Implement functions that realize creation and verification of digital signature (2 points)"
   ]
  },
  {
   "cell_type": "code",
   "execution_count": 99,
   "metadata": {},
   "outputs": [],
   "source": [
    "def egcd(n1, n2):\n",
    "    if n1 == 0:\n",
    "        return (n2, 0, 1)\n",
    "    else:\n",
    "        g, y, x = egcd(n2 % n1, n1)\n",
    "        return (g, x - (n2 // n1) * y, y)\n",
    "\n",
    "def inv(a, m):\n",
    "    g, x, y = egcd(a, m)\n",
    "    if g != 1:\n",
    "        raise Exception('Inv does not exist')\n",
    "    else:\n",
    "        return x % m\n",
    "    \n",
    "def hashed(m):\n",
    "    return m%199"
   ]
  },
  {
   "cell_type": "code",
   "execution_count": 100,
   "metadata": {},
   "outputs": [],
   "source": [
    "def sig_create(m,n):\n",
    "    p,g,x,y = gen_key(n)\n",
    "    m1 = hashed(m)\n",
    "    k = randint(1,p-1)\n",
    "    while math.gcd(k,p-1) != 1:\n",
    "        k += 1 \n",
    "    r = (g**k)%p\n",
    "    s = ((m1 - x*r)*inv(k,p-1))%(p-1)\n",
    "    return m,r,s,p,g,y\n",
    "    \n",
    "def sig_verify(m,r,s,p,g,y):\n",
    "    if  0 < r < p  or 0 < s < p-1:\n",
    "        m1 = hashed(m)\n",
    "        left = (y**r)*(r**s)%p\n",
    "        right = (g**m1)%p\n",
    "        if left == right:\n",
    "            print('Signature right:', left,'=',right)\n",
    "        else:\n",
    "             raise Exception('Wrong signature!')\n",
    "    else: \n",
    "        raise Exception('Wrong signature!')"
   ]
  },
  {
   "cell_type": "markdown",
   "metadata": {},
   "source": [
    "5.Test your functions on random values and show that your algorithm works correctly (1 point)"
   ]
  },
  {
   "cell_type": "code",
   "execution_count": 101,
   "metadata": {},
   "outputs": [],
   "source": [
    "def test1(n):\n",
    "    number =  randint(1,2**(n-1))\n",
    "    print('Message:', number)\n",
    "    m,r,s,p,g,y = sig_create(number,n)\n",
    "    print('Signatured message: (m,r,s)= ',m,r,s)\n",
    "    sig_verify(m,r,s,p,g,y)"
   ]
  },
  {
   "cell_type": "code",
   "execution_count": 102,
   "metadata": {},
   "outputs": [
    {
     "name": "stdout",
     "output_type": "stream",
     "text": [
      "Message: 330\n",
      "Signatured message: (m,r,s)=  330 125 553\n",
      "Signature right: 798 = 798\n"
     ]
    }
   ],
   "source": [
    "test1(10)"
   ]
  },
  {
   "cell_type": "markdown",
   "metadata": {},
   "source": [
    "## Problem 3 (15 points)"
   ]
  },
  {
   "cell_type": "markdown",
   "metadata": {},
   "source": [
    "1.Implement SHA256 (https://en.wikipedia.org/wiki/SHA-2) hashing algorithm using the pseudo-code below. Note the great increase in mixing between bits of the w[16..63] words compared to SHA-1 (10 points)"
   ]
  },
  {
   "cell_type": "raw",
   "metadata": {},
   "source": [
    "Note 1: All variables are 32 bit unsigned integers and addition is done modulo 2^32\n",
    "Note 2: For each round, there is one round constant k[i] and one entry in the message schedule array w[i], 0 ≤ i ≤ 63\n",
    "Note 3: The compression function uses 8 working variables, a through h\n",
    "Note 4: Big-endian convention is used when expressing the constants in this pseudocode,\n",
    "    and when parsing message block data from bytes to words, for example,\n",
    "    the first word of the input message \"abc\" after padding is 0x61626380\n",
    "\n",
    "Initialize hash values:\n",
    "(first 32 bits of the fractional parts of the square roots of the first 8 primes 2..19):\n",
    "h0 := 0x6a09e667\n",
    "h1 := 0xbb67ae85\n",
    "h2 := 0x3c6ef372\n",
    "h3 := 0xa54ff53a\n",
    "h4 := 0x510e527f\n",
    "h5 := 0x9b05688c\n",
    "h6 := 0x1f83d9ab\n",
    "h7 := 0x5be0cd19\n",
    "\n",
    "Initialize array of round constants:\n",
    "(first 32 bits of the fractional parts of the cube roots of the first 64 primes 2..311):\n",
    "k[0..63] :=\n",
    "   0x428a2f98, 0x71374491, 0xb5c0fbcf, 0xe9b5dba5, 0x3956c25b, 0x59f111f1, 0x923f82a4, 0xab1c5ed5,\n",
    "   0xd807aa98, 0x12835b01, 0x243185be, 0x550c7dc3, 0x72be5d74, 0x80deb1fe, 0x9bdc06a7, 0xc19bf174,\n",
    "   0xe49b69c1, 0xefbe4786, 0x0fc19dc6, 0x240ca1cc, 0x2de92c6f, 0x4a7484aa, 0x5cb0a9dc, 0x76f988da,\n",
    "   0x983e5152, 0xa831c66d, 0xb00327c8, 0xbf597fc7, 0xc6e00bf3, 0xd5a79147, 0x06ca6351, 0x14292967,\n",
    "   0x27b70a85, 0x2e1b2138, 0x4d2c6dfc, 0x53380d13, 0x650a7354, 0x766a0abb, 0x81c2c92e, 0x92722c85,\n",
    "   0xa2bfe8a1, 0xa81a664b, 0xc24b8b70, 0xc76c51a3, 0xd192e819, 0xd6990624, 0xf40e3585, 0x106aa070,\n",
    "   0x19a4c116, 0x1e376c08, 0x2748774c, 0x34b0bcb5, 0x391c0cb3, 0x4ed8aa4a, 0x5b9cca4f, 0x682e6ff3,\n",
    "   0x748f82ee, 0x78a5636f, 0x84c87814, 0x8cc70208, 0x90befffa, 0xa4506ceb, 0xbef9a3f7, 0xc67178f2\n",
    "\n",
    "Pre-processing (Padding):\n",
    "begin with the original message of length L bits\n",
    "append a single '1' bit\n",
    "append K '0' bits, where K is the minimum number >= 0 such that L + 1 + K + 64 is a multiple of 512\n",
    "append L as a 64-bit big-endian integer, making the total post-processed length a multiple of 512 bits\n",
    "\n",
    "Process the message in successive 512-bit chunks:\n",
    "break message into 512-bit chunks\n",
    "for each chunk\n",
    "    create a 64-entry message schedule array w[0..63] of 32-bit words\n",
    "    (The initial values in w[0..63] don't matter, so many implementations zero them here)\n",
    "    copy chunk into first 16 words w[0..15] of the message schedule array\n",
    "\n",
    "    Extend the first 16 words into the remaining 48 words w[16..63] of the message schedule array:\n",
    "    for i from 16 to 63\n",
    "        s0 := (w[i-15] rightrotate 7) xor (w[i-15] rightrotate 18) xor (w[i-15] rightshift 3)\n",
    "        s1 := (w[i-2] rightrotate 17) xor (w[i-2] rightrotate 19) xor (w[i-2] rightshift 10)\n",
    "        w[i] := w[i-16] + s0 + w[i-7] + s1\n",
    "\n",
    "    Initialize working variables to current hash value:\n",
    "    a := h0\n",
    "    b := h1\n",
    "    c := h2\n",
    "    d := h3\n",
    "    e := h4\n",
    "    f := h5\n",
    "    g := h6\n",
    "    h := h7\n",
    "\n",
    "    Compression function main loop:\n",
    "    for i from 0 to 63\n",
    "        S1 := (e rightrotate 6) xor (e rightrotate 11) xor (e rightrotate 25)\n",
    "        ch := (e and f) xor ((not e) and g)\n",
    "        temp1 := h + S1 + ch + k[i] + w[i]\n",
    "        S0 := (a rightrotate 2) xor (a rightrotate 13) xor (a rightrotate 22)\n",
    "        maj := (a and b) xor (a and c) xor (b and c)\n",
    "        temp2 := S0 + maj\n",
    " \n",
    "        h := g\n",
    "        g := f\n",
    "        f := e\n",
    "        e := d + temp1\n",
    "        d := c\n",
    "        c := b\n",
    "        b := a\n",
    "        a := temp1 + temp2\n",
    "\n",
    "    Add the compressed chunk to the current hash value:\n",
    "    h0 := h0 + a\n",
    "    h1 := h1 + b\n",
    "    h2 := h2 + c\n",
    "    h3 := h3 + d\n",
    "    h4 := h4 + e\n",
    "    h5 := h5 + f\n",
    "    h6 := h6 + g\n",
    "    h7 := h7 + h\n",
    "\n",
    "Produce the final hash value (big-endian):\n",
    "digest := hash := h0 append h1 append h2 append h3 append h4 append h5 append h6 append h7"
   ]
  },
  {
   "cell_type": "markdown",
   "metadata": {},
   "source": [
    "2.Calculate hashes of the texts below (1 point)"
   ]
  },
  {
   "cell_type": "code",
   "execution_count": null,
   "metadata": {
    "collapsed": true
   },
   "outputs": [],
   "source": [
    "string_small = 'This is a very small string with a few characters.'\n",
    "string_larger = 'This is a larger string that contains more characters.'\n",
    "string_big = 'This is a larger string that contains more characters. This demonstrates that no matter how big the input stream is, the generated hash is the same size (but of course, not the same value). If two files have a different hash, they surely contain different data.'\n",
    "string_empty = ''"
   ]
  },
  {
   "cell_type": "code",
   "execution_count": null,
   "metadata": {
    "collapsed": true
   },
   "outputs": [],
   "source": []
  },
  {
   "cell_type": "markdown",
   "metadata": {},
   "source": [
    "3.What is a bit length of each hash? (1 point)"
   ]
  },
  {
   "cell_type": "code",
   "execution_count": null,
   "metadata": {
    "collapsed": true
   },
   "outputs": [],
   "source": []
  },
  {
   "cell_type": "markdown",
   "metadata": {},
   "source": [
    "4.What is the bitwise distance between them? What is bitwise distance between their hashes? (1 point)"
   ]
  },
  {
   "cell_type": "code",
   "execution_count": null,
   "metadata": {
    "collapsed": true
   },
   "outputs": [],
   "source": []
  },
  {
   "cell_type": "markdown",
   "metadata": {},
   "source": [
    "5.Typically use apply hash function to our passwords and texts that we want to digitally sign. Implement digital signature of hashed string using El-Gamal digital signature. Compare the digital signature of pain text and hashed text. (2 points)"
   ]
  },
  {
   "cell_type": "code",
   "execution_count": null,
   "metadata": {
    "collapsed": true
   },
   "outputs": [],
   "source": []
  },
  {
   "cell_type": "markdown",
   "metadata": {},
   "source": [
    "## Problem 4 (15 points)"
   ]
  },
  {
   "cell_type": "markdown",
   "metadata": {},
   "source": [
    "Merkle hash trees play an important role in forming transaction blocks in blockchain. In this assignment we ask you to plot your own Merkle hash tree and check its' properties. Below we provide you with some code fragment what you can use in your assignment"
   ]
  },
  {
   "cell_type": "code",
   "execution_count": null,
   "metadata": {
    "collapsed": true
   },
   "outputs": [],
   "source": [
    "import matplotlib\n",
    "import networkx as nx\n",
    "%matplotlib qt5\n",
    "from networkx import balanced_tree, draw_networkx, draw"
   ]
  },
  {
   "cell_type": "markdown",
   "metadata": {},
   "source": [
    "Let us plot graph basis for Merkle hash tree"
   ]
  },
  {
   "cell_type": "code",
   "execution_count": null,
   "metadata": {
    "collapsed": true
   },
   "outputs": [],
   "source": [
    "G = nx.Graph()\n",
    "positions = {}\n",
    "coordinates = [\n",
    "    [0, 4],\n",
    "    [-2, 3],\n",
    "    [2, 3],\n",
    "    [-3, 2],\n",
    "    [-1, 2],\n",
    "    [1, 2],\n",
    "    [3, 2],\n",
    "    [-3, 1],\n",
    "    [-1, 1],\n",
    "    [1, 1],\n",
    "    [3, 1]\n",
    "]\n",
    "parents = [0, 0, 0, 1, 1, 2, 2, 3, 4, 5, 6]\n",
    "for index in range(11):\n",
    "    G.add_node(index)\n",
    "    G.add_edge(index, parents[index])\n",
    "    positions[index] = coordinates[index]\n",
    "nx.draw(G, positions, node_size = 1000)\n",
    "labels = {\n",
    "    0: '0',\n",
    "    1: '1',\n",
    "    2: '2',\n",
    "    3: '3',\n",
    "    4: '4',\n",
    "    5: '5',\n",
    "    6: '6',\n",
    "    7: 'tx1',\n",
    "    8: 'tx2',\n",
    "    9: 'tx3',\n",
    "    10: 'tx4',\n",
    "}\n",
    "nx.draw_networkx_labels(G, positions, labels = labels)"
   ]
  },
  {
   "cell_type": "markdown",
   "metadata": {},
   "source": [
    "In Bitcoin double sha256 hash scheme is used. Here is an example."
   ]
  },
  {
   "cell_type": "code",
   "execution_count": null,
   "metadata": {
    "collapsed": true
   },
   "outputs": [],
   "source": [
    "import hashlib\n",
    "\n",
    "\n",
    "first_hash = hashlib.sha256(b\"hello\") # \"b\" stands for binary representation\n",
    "second_hash = hashlib.sha256()\n",
    "print('First hash represented as a hexadecimal number:', first_hash.hexdigest())\n",
    "second_hash.update(first_hash.digest())\n",
    "print('Second hash represented as a hexadecimal number:', second_hash.hexdigest()"
   ]
  },
  {
   "cell_type": "markdown",
   "metadata": {},
   "source": [
    "Now we can easily change vertices' labels to hashes of corresponding messages and plot new graph"
   ]
  },
  {
   "cell_type": "code",
   "execution_count": null,
   "metadata": {
    "collapsed": true
   },
   "outputs": [],
   "source": [
    "labels[3] = hashlib.sha256(hashlib.sha256(b\"tx1\").digest()).hexdigest()\n",
    "\n",
    "# and plot the graph again\n",
    "\n",
    "nx.draw(G, positions, node_size = 1000)\n",
    "nx.draw_networkx_labels(G, positions, labels = labels, font_size = 8)\n",
    "print(labels[3])"
   ]
  },
  {
   "cell_type": "markdown",
   "metadata": {},
   "source": [
    "1.Construct Merkle hash tree using previously constructed graph by finding corresponding SHA256 hashes on vertices (2 points). Plot obtained Merkle hash tree (1 point)"
   ]
  },
  {
   "cell_type": "code",
   "execution_count": null,
   "metadata": {
    "collapsed": true
   },
   "outputs": [],
   "source": []
  },
  {
   "cell_type": "markdown",
   "metadata": {},
   "source": [
    "2.Provide a proof of correctness of leaf tx2 (2 points). "
   ]
  },
  {
   "cell_type": "code",
   "execution_count": null,
   "metadata": {
    "collapsed": true
   },
   "outputs": [],
   "source": []
  },
  {
   "cell_type": "markdown",
   "metadata": {},
   "source": [
    "3.Provide a proof of correctness for set of leafs (tx3-tx4) (2 points)"
   ]
  },
  {
   "cell_type": "code",
   "execution_count": null,
   "metadata": {
    "collapsed": true
   },
   "outputs": [],
   "source": []
  },
  {
   "cell_type": "markdown",
   "metadata": {},
   "source": [
    "4.Change the value on leaf tx1 and recompute corresponding hashes. Plot newly obtained Merkle hash tree (2 points)"
   ]
  },
  {
   "cell_type": "code",
   "execution_count": null,
   "metadata": {
    "collapsed": true
   },
   "outputs": [],
   "source": []
  },
  {
   "cell_type": "markdown",
   "metadata": {},
   "source": [
    "5.Nodes in Merkle hash trees may have arbitrary fanout. In previouse items we consider the case of fanout equals to two. But what will change if we set a fanout equals to three? Construct Merkle hash trees with fanout 3 to sign 9 values? Construct the hash tree with fanout 2 to sign the same set of values? Plot obtained trees (4 points) "
   ]
  },
  {
   "cell_type": "code",
   "execution_count": null,
   "metadata": {
    "collapsed": true
   },
   "outputs": [],
   "source": []
  },
  {
   "cell_type": "markdown",
   "metadata": {},
   "source": [
    "6.What is the optimum tree fanout for signing first 4 values in the set up of previouse item? (2 points)"
   ]
  },
  {
   "cell_type": "markdown",
   "metadata": {},
   "source": []
  }
 ],
 "metadata": {
  "kernelspec": {
   "display_name": "Python 3",
   "language": "python",
   "name": "python3"
  },
  "language_info": {
   "codemirror_mode": {
    "name": "ipython",
    "version": 3
   },
   "file_extension": ".py",
   "mimetype": "text/x-python",
   "name": "python",
   "nbconvert_exporter": "python",
   "pygments_lexer": "ipython3",
   "version": "3.6.5"
  }
 },
 "nbformat": 4,
 "nbformat_minor": 2
}
